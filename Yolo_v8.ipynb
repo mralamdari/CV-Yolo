{
  "nbformat": 4,
  "nbformat_minor": 0,
  "metadata": {
    "colab": {
      "provenance": [],
      "authorship_tag": "ABX9TyMh5E9Jw89nM0VkSMOs3z9k",
      "include_colab_link": true
    },
    "kernelspec": {
      "name": "python3",
      "display_name": "Python 3"
    },
    "language_info": {
      "name": "python"
    }
  },
  "cells": [
    {
      "cell_type": "markdown",
      "metadata": {
        "id": "view-in-github",
        "colab_type": "text"
      },
      "source": [
        "<a href=\"https://colab.research.google.com/github/mralamdari/YOLO/blob/main/Yolo_v8.ipynb\" target=\"_parent\"><img src=\"https://colab.research.google.com/assets/colab-badge.svg\" alt=\"Open In Colab\"/></a>"
      ]
    },
    {
      "cell_type": "code",
      "execution_count": null,
      "metadata": {
        "id": "3IP4ViZFoHDr"
      },
      "outputs": [],
      "source": [
        "#clone OIDv4_ToolKit\n",
        "%cd /content/darknet\n",
        "!git clone https://github.com/mralamdari/OIDv4_ToolKit.git"
      ]
    },
    {
      "cell_type": "code",
      "source": [
        "#install necessary libraries\n",
        "!pip3 install -r requirements.txt\n",
        "!pip install awscli"
      ],
      "metadata": {
        "id": "fz4D4hFnsI04"
      },
      "execution_count": null,
      "outputs": []
    }
  ]
}