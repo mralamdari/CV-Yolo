{
  "nbformat": 4,
  "nbformat_minor": 0,
  "metadata": {
    "colab": {
      "name": "YOLO_v3_ObjectDetection_TensorFlow_3.ipynb",
      "provenance": [],
      "collapsed_sections": [],
      "mount_file_id": "1gCcO2AQlQ7yPjhManytzBubME16kuSDj",
      "authorship_tag": "ABX9TyPANxB6LxAtVN/4+4kJnNB8",
      "include_colab_link": true
    },
    "kernelspec": {
      "name": "python3",
      "display_name": "Python 3"
    },
    "language_info": {
      "name": "python"
    }
  },
  "cells": [
    {
      "cell_type": "markdown",
      "metadata": {
        "id": "view-in-github",
        "colab_type": "text"
      },
      "source": [
        "<a href=\"https://colab.research.google.com/github/mralamdari/CV-Yolo/blob/main/YOLO_v3_ObjectDetection_TensorFlow_3.ipynb\" target=\"_parent\"><img src=\"https://colab.research.google.com/assets/colab-badge.svg\" alt=\"Open In Colab\"/></a>"
      ]
    },
    {
      "cell_type": "code",
      "source": [
        "import numpy as np\n",
        "\n",
        "!wget -P model_data https://pjreddie.com/media/files/yolov3.weights"
      ],
      "metadata": {
        "colab": {
          "base_uri": "https://localhost:8080/"
        },
        "id": "T8HZWSI3gkwx",
        "outputId": "05697e5d-7ac1-4ad0-cc1f-23586d112a9e"
      },
      "execution_count": 1,
      "outputs": [
        {
          "output_type": "stream",
          "name": "stdout",
          "text": [
            "--2022-08-16 04:55:41--  https://pjreddie.com/media/files/yolov3.weights\n",
            "Resolving pjreddie.com (pjreddie.com)... 128.208.4.108\n",
            "Connecting to pjreddie.com (pjreddie.com)|128.208.4.108|:443... connected.\n",
            "HTTP request sent, awaiting response... 200 OK\n",
            "Length: 248007048 (237M) [application/octet-stream]\n",
            "Saving to: ‘model_data/yolov3.weights’\n",
            "\n",
            "yolov3.weights      100%[===================>] 236.52M  44.8MB/s    in 5.7s    \n",
            "\n",
            "2022-08-16 04:55:47 (41.7 MB/s) - ‘model_data/yolov3.weights’ saved [248007048/248007048]\n",
            "\n"
          ]
        }
      ]
    },
    {
      "cell_type": "code",
      "source": [
        "with open('model_data/yolov3.weights', 'rb') as wf:\n",
        "    major, minor, revision, seen, _ = np.fromfile(wf, dtype=np.int32, count=5)\n",
        "\n",
        "    weights_1 = np.fromfile(wf, dtype=np.float32, count=2)\n",
        "    weights_2 = np.fromfile(wf, dtype=np.float32, count=20)\n",
        "    weights_3 = np.fromfile(wf, dtype=np.float32)\n",
        "\n",
        "\n"
      ],
      "metadata": {
        "id": "z8oGUcMRe_jT"
      },
      "execution_count": 2,
      "outputs": []
    },
    {
      "cell_type": "code",
      "source": [
        "major, minor, revision, seen, _ "
      ],
      "metadata": {
        "colab": {
          "base_uri": "https://localhost:8080/"
        },
        "id": "WRTE5Si9i8Bp",
        "outputId": "cb7a81da-4551-465a-e846-09daf730cdcd"
      },
      "execution_count": 3,
      "outputs": [
        {
          "output_type": "execute_result",
          "data": {
            "text/plain": [
              "(0, 2, 0, 32013312, 0)"
            ]
          },
          "metadata": {},
          "execution_count": 3
        }
      ]
    },
    {
      "cell_type": "code",
      "source": [
        "weights_1"
      ],
      "metadata": {
        "colab": {
          "base_uri": "https://localhost:8080/"
        },
        "id": "vm0-SBQlkHIg",
        "outputId": "3a71091c-4b4a-47ee-9a45-7d590e29cb41"
      },
      "execution_count": 4,
      "outputs": [
        {
          "output_type": "execute_result",
          "data": {
            "text/plain": [
              "array([-4.316885 , -0.7578076], dtype=float32)"
            ]
          },
          "metadata": {},
          "execution_count": 4
        }
      ]
    },
    {
      "cell_type": "code",
      "source": [
        "weights_2"
      ],
      "metadata": {
        "colab": {
          "base_uri": "https://localhost:8080/"
        },
        "id": "i1omPmvfkIEY",
        "outputId": "84f2a127-ce1c-45b7-b941-04006ea58de1"
      },
      "execution_count": 5,
      "outputs": [
        {
          "output_type": "execute_result",
          "data": {
            "text/plain": [
              "array([-2.1098018 ,  1.7402638 ,  1.4071269 , -3.0952053 , -0.38860837,\n",
              "        0.75603795,  1.982805  ,  1.2893223 ,  0.652888  ,  2.6263633 ,\n",
              "        2.3013082 , -2.04827   , -3.7340226 , -2.0467598 ,  3.845535  ,\n",
              "       -1.0419698 , -0.30135924, -0.35420752, -3.5354283 , -2.628548  ],\n",
              "      dtype=float32)"
            ]
          },
          "metadata": {},
          "execution_count": 5
        }
      ]
    },
    {
      "cell_type": "code",
      "source": [
        "weights_3"
      ],
      "metadata": {
        "colab": {
          "base_uri": "https://localhost:8080/"
        },
        "id": "IRVyop5kkOM8",
        "outputId": "df4593c8-aa99-4d1c-a0ff-28c4ab27500d"
      },
      "execution_count": 6,
      "outputs": [
        {
          "output_type": "execute_result",
          "data": {
            "text/plain": [
              "array([ 0.74821305,  0.3917957 ,  2.3627155 , ..., -0.03373355,\n",
              "       -0.04969028, -0.11880384], dtype=float32)"
            ]
          },
          "metadata": {},
          "execution_count": 6
        }
      ]
    },
    {
      "cell_type": "code",
      "source": [
        "weights_3.shape"
      ],
      "metadata": {
        "colab": {
          "base_uri": "https://localhost:8080/"
        },
        "id": "VxrdkeZ1kUQQ",
        "outputId": "bb5b8840-ddab-43b9-bbd9-7aa8a2b93e41"
      },
      "execution_count": 7,
      "outputs": [
        {
          "output_type": "execute_result",
          "data": {
            "text/plain": [
              "(62001735,)"
            ]
          },
          "metadata": {},
          "execution_count": 7
        }
      ]
    },
    {
      "cell_type": "code",
      "source": [
        "import tensorflow as tf\n",
        "\n",
        "# tf.config.experimental.list_physical_devices('GPU')\n",
        "tf.config.list_physical_devices('GPU')"
      ],
      "metadata": {
        "id": "XF2IHDIP6-xk",
        "colab": {
          "base_uri": "https://localhost:8080/"
        },
        "outputId": "1344cc3d-9765-43ab-d516-d1f035313fb0"
      },
      "execution_count": 8,
      "outputs": [
        {
          "output_type": "execute_result",
          "data": {
            "text/plain": [
              "[]"
            ]
          },
          "metadata": {},
          "execution_count": 8
        }
      ]
    },
    {
      "cell_type": "code",
      "source": [
        "physical_devices = tf.config.list_physical_devices('GPU')\n",
        "if len(physical_devices) > 0:\n",
        "    try: \n",
        "      tf.config.set_memory_growth(physical_devices[0], True)\n",
        "    except RuntimeError:\n",
        "      pass"
      ],
      "metadata": {
        "id": "l18cKNdQxyYP"
      },
      "execution_count": 9,
      "outputs": []
    },
    {
      "cell_type": "code",
      "source": [
        "X = tf.random.normal([512, 32]);\n",
        "Y = tf.split(X,128,0)\n",
        "Y_shape = tf.shape(Y[0])\n",
        "Y_shape2 = tf.shape(Y[1])\n",
        "\n",
        "\n",
        "print(len(X))\n",
        "print(len(Y))\n",
        "print(Y_shape)\n",
        "print(Y_shape2)\n"
      ],
      "metadata": {
        "colab": {
          "base_uri": "https://localhost:8080/"
        },
        "id": "orbotmDfU_nZ",
        "outputId": "2ed0623a-7e24-492e-a4cc-b248ce1ecac8"
      },
      "execution_count": 10,
      "outputs": [
        {
          "output_type": "stream",
          "name": "stdout",
          "text": [
            "512\n",
            "128\n",
            "tf.Tensor([ 4 32], shape=(2,), dtype=int32)\n",
            "tf.Tensor([ 4 32], shape=(2,), dtype=int32)\n"
          ]
        }
      ]
    },
    {
      "cell_type": "code",
      "source": [
        "X.shape"
      ],
      "metadata": {
        "colab": {
          "base_uri": "https://localhost:8080/"
        },
        "id": "CnALvRQdVDS6",
        "outputId": "f85a8e41-9e43-4794-b9a1-a52dabd33252"
      },
      "execution_count": 11,
      "outputs": [
        {
          "output_type": "execute_result",
          "data": {
            "text/plain": [
              "TensorShape([512, 32])"
            ]
          },
          "metadata": {},
          "execution_count": 11
        }
      ]
    },
    {
      "cell_type": "code",
      "source": [
        "a=tf.random_normal_initializer(stddev=0.01)"
      ],
      "metadata": {
        "id": "klw4o0WoWL4W"
      },
      "execution_count": 12,
      "outputs": []
    },
    {
      "cell_type": "code",
      "source": [
        "s=tf.constant_initializer(0.)"
      ],
      "metadata": {
        "id": "3zadjweOLqVC"
      },
      "execution_count": 13,
      "outputs": []
    },
    {
      "cell_type": "code",
      "source": [
        "a"
      ],
      "metadata": {
        "colab": {
          "base_uri": "https://localhost:8080/"
        },
        "id": "rsbKLLjfLqtB",
        "outputId": "ed14d29e-d101-4a0c-cfd2-42abf1342ee1"
      },
      "execution_count": 14,
      "outputs": [
        {
          "output_type": "execute_result",
          "data": {
            "text/plain": [
              "<tensorflow.python.ops.init_ops_v2.RandomNormal at 0x7f8439228d10>"
            ]
          },
          "metadata": {},
          "execution_count": 14
        }
      ]
    },
    {
      "cell_type": "code",
      "source": [
        "tf.split(xy_grid[0], [2, 2, 1, -1], axis=-1)"
      ],
      "metadata": {
        "id": "DtREwFplL6zD",
        "outputId": "21ac8a4e-5e96-4235-d02e-9ef4d8513836",
        "colab": {
          "base_uri": "https://localhost:8080/"
        }
      },
      "execution_count": 49,
      "outputs": [
        {
          "output_type": "execute_result",
          "data": {
            "text/plain": [
              "[<tf.Tensor: shape=(13, 2), dtype=int32, numpy=\n",
              " array([[0, 1],\n",
              "        [0, 1],\n",
              "        [0, 1],\n",
              "        [0, 1],\n",
              "        [0, 1],\n",
              "        [0, 1],\n",
              "        [0, 1],\n",
              "        [0, 1],\n",
              "        [0, 1],\n",
              "        [0, 1],\n",
              "        [0, 1],\n",
              "        [0, 1],\n",
              "        [0, 1]], dtype=int32)>, <tf.Tensor: shape=(13, 2), dtype=int32, numpy=\n",
              " array([[2, 3],\n",
              "        [2, 3],\n",
              "        [2, 3],\n",
              "        [2, 3],\n",
              "        [2, 3],\n",
              "        [2, 3],\n",
              "        [2, 3],\n",
              "        [2, 3],\n",
              "        [2, 3],\n",
              "        [2, 3],\n",
              "        [2, 3],\n",
              "        [2, 3],\n",
              "        [2, 3]], dtype=int32)>, <tf.Tensor: shape=(13, 1), dtype=int32, numpy=\n",
              " array([[4],\n",
              "        [4],\n",
              "        [4],\n",
              "        [4],\n",
              "        [4],\n",
              "        [4],\n",
              "        [4],\n",
              "        [4],\n",
              "        [4],\n",
              "        [4],\n",
              "        [4],\n",
              "        [4],\n",
              "        [4]], dtype=int32)>, <tf.Tensor: shape=(13, 8), dtype=int32, numpy=\n",
              " array([[ 5,  6,  7,  8,  9, 10, 11, 12],\n",
              "        [ 5,  6,  7,  8,  9, 10, 11, 12],\n",
              "        [ 5,  6,  7,  8,  9, 10, 11, 12],\n",
              "        [ 5,  6,  7,  8,  9, 10, 11, 12],\n",
              "        [ 5,  6,  7,  8,  9, 10, 11, 12],\n",
              "        [ 5,  6,  7,  8,  9, 10, 11, 12],\n",
              "        [ 5,  6,  7,  8,  9, 10, 11, 12],\n",
              "        [ 5,  6,  7,  8,  9, 10, 11, 12],\n",
              "        [ 5,  6,  7,  8,  9, 10, 11, 12],\n",
              "        [ 5,  6,  7,  8,  9, 10, 11, 12],\n",
              "        [ 5,  6,  7,  8,  9, 10, 11, 12],\n",
              "        [ 5,  6,  7,  8,  9, 10, 11, 12],\n",
              "        [ 5,  6,  7,  8,  9, 10, 11, 12]], dtype=int32)>]"
            ]
          },
          "metadata": {},
          "execution_count": 49
        }
      ]
    },
    {
      "cell_type": "code",
      "source": [
        "output_size = 13\n",
        "y = tf.range(output_size, dtype=tf.int32)\n",
        "y = tf.expand_dims(y, -1)\n",
        "y = tf.tile(y, [1, output_size])\n",
        "x = tf.range(output_size,dtype=tf.int32)\n",
        "x = tf.expand_dims(x, 0)\n",
        "x = tf.tile(x, [output_size, 1])\n",
        "\n",
        "xy_grid = tf.meshgrid(tf.range(output_size), tf.range(output_size))\n",
        "xy_grid = tf.expand_dims(tf.stack(xy_grid, axis=-1), axis=2)  # [gx, gy, 1, 2]\n",
        "xy_grid = tf.tile(tf.expand_dims(xy_grid, axis=0), [32, 1, 1, 3, 1])\n",
        "xy_grid = tf.cast(xy_grid, tf.float32)"
      ],
      "metadata": {
        "id": "UwMzPp6AL8kW"
      },
      "execution_count": 17,
      "outputs": []
    },
    {
      "cell_type": "code",
      "source": [
        "y = tf.range(output_size, dtype=tf.int32)\n",
        "y"
      ],
      "metadata": {
        "colab": {
          "base_uri": "https://localhost:8080/"
        },
        "id": "c6ko2vE82q20",
        "outputId": "23e1e13b-59c8-448a-facb-e3391a236d7a"
      },
      "execution_count": 34,
      "outputs": [
        {
          "output_type": "execute_result",
          "data": {
            "text/plain": [
              "<tf.Tensor: shape=(13,), dtype=int32, numpy=array([ 0,  1,  2,  3,  4,  5,  6,  7,  8,  9, 10, 11, 12], dtype=int32)>"
            ]
          },
          "metadata": {},
          "execution_count": 34
        }
      ]
    },
    {
      "cell_type": "code",
      "source": [
        "y = tf.expand_dims(y, -1)\n",
        "y"
      ],
      "metadata": {
        "colab": {
          "base_uri": "https://localhost:8080/"
        },
        "id": "QeJnfVRK23jD",
        "outputId": "9755da01-c42d-4828-f028-4cd47b7d3097"
      },
      "execution_count": 19,
      "outputs": [
        {
          "output_type": "execute_result",
          "data": {
            "text/plain": [
              "<tf.Tensor: shape=(13, 1), dtype=int32, numpy=\n",
              "array([[ 0],\n",
              "       [ 1],\n",
              "       [ 2],\n",
              "       [ 3],\n",
              "       [ 4],\n",
              "       [ 5],\n",
              "       [ 6],\n",
              "       [ 7],\n",
              "       [ 8],\n",
              "       [ 9],\n",
              "       [10],\n",
              "       [11],\n",
              "       [12]], dtype=int32)>"
            ]
          },
          "metadata": {},
          "execution_count": 19
        }
      ]
    },
    {
      "cell_type": "code",
      "source": [
        "y = tf.tile(y, [1, output_size])\n",
        "y"
      ],
      "metadata": {
        "colab": {
          "base_uri": "https://localhost:8080/"
        },
        "id": "8q05K3WR2_XE",
        "outputId": "c0205cd2-3db7-40af-8dce-354c526affe5"
      },
      "execution_count": 20,
      "outputs": [
        {
          "output_type": "execute_result",
          "data": {
            "text/plain": [
              "<tf.Tensor: shape=(13, 13), dtype=int32, numpy=\n",
              "array([[ 0,  0,  0,  0,  0,  0,  0,  0,  0,  0,  0,  0,  0],\n",
              "       [ 1,  1,  1,  1,  1,  1,  1,  1,  1,  1,  1,  1,  1],\n",
              "       [ 2,  2,  2,  2,  2,  2,  2,  2,  2,  2,  2,  2,  2],\n",
              "       [ 3,  3,  3,  3,  3,  3,  3,  3,  3,  3,  3,  3,  3],\n",
              "       [ 4,  4,  4,  4,  4,  4,  4,  4,  4,  4,  4,  4,  4],\n",
              "       [ 5,  5,  5,  5,  5,  5,  5,  5,  5,  5,  5,  5,  5],\n",
              "       [ 6,  6,  6,  6,  6,  6,  6,  6,  6,  6,  6,  6,  6],\n",
              "       [ 7,  7,  7,  7,  7,  7,  7,  7,  7,  7,  7,  7,  7],\n",
              "       [ 8,  8,  8,  8,  8,  8,  8,  8,  8,  8,  8,  8,  8],\n",
              "       [ 9,  9,  9,  9,  9,  9,  9,  9,  9,  9,  9,  9,  9],\n",
              "       [10, 10, 10, 10, 10, 10, 10, 10, 10, 10, 10, 10, 10],\n",
              "       [11, 11, 11, 11, 11, 11, 11, 11, 11, 11, 11, 11, 11],\n",
              "       [12, 12, 12, 12, 12, 12, 12, 12, 12, 12, 12, 12, 12]], dtype=int32)>"
            ]
          },
          "metadata": {},
          "execution_count": 20
        }
      ]
    },
    {
      "cell_type": "code",
      "source": [
        "x = tf.range(output_size,dtype=tf.int32)\n",
        "x = tf.expand_dims(x, 0)\n",
        "x"
      ],
      "metadata": {
        "colab": {
          "base_uri": "https://localhost:8080/"
        },
        "id": "kNbrYIGV3QU5",
        "outputId": "538b6e5a-b1bf-4ba0-c138-4aedd4d46c97"
      },
      "execution_count": 21,
      "outputs": [
        {
          "output_type": "execute_result",
          "data": {
            "text/plain": [
              "<tf.Tensor: shape=(1, 13), dtype=int32, numpy=array([[ 0,  1,  2,  3,  4,  5,  6,  7,  8,  9, 10, 11, 12]], dtype=int32)>"
            ]
          },
          "metadata": {},
          "execution_count": 21
        }
      ]
    },
    {
      "cell_type": "code",
      "source": [
        "x = tf.tile(x, [output_size, 1])\n",
        "x"
      ],
      "metadata": {
        "colab": {
          "base_uri": "https://localhost:8080/"
        },
        "id": "WPVt3cgO-fet",
        "outputId": "b03e0a4e-e5b1-45f5-fcc2-6db607708c1d"
      },
      "execution_count": 22,
      "outputs": [
        {
          "output_type": "execute_result",
          "data": {
            "text/plain": [
              "<tf.Tensor: shape=(13, 13), dtype=int32, numpy=\n",
              "array([[ 0,  1,  2,  3,  4,  5,  6,  7,  8,  9, 10, 11, 12],\n",
              "       [ 0,  1,  2,  3,  4,  5,  6,  7,  8,  9, 10, 11, 12],\n",
              "       [ 0,  1,  2,  3,  4,  5,  6,  7,  8,  9, 10, 11, 12],\n",
              "       [ 0,  1,  2,  3,  4,  5,  6,  7,  8,  9, 10, 11, 12],\n",
              "       [ 0,  1,  2,  3,  4,  5,  6,  7,  8,  9, 10, 11, 12],\n",
              "       [ 0,  1,  2,  3,  4,  5,  6,  7,  8,  9, 10, 11, 12],\n",
              "       [ 0,  1,  2,  3,  4,  5,  6,  7,  8,  9, 10, 11, 12],\n",
              "       [ 0,  1,  2,  3,  4,  5,  6,  7,  8,  9, 10, 11, 12],\n",
              "       [ 0,  1,  2,  3,  4,  5,  6,  7,  8,  9, 10, 11, 12],\n",
              "       [ 0,  1,  2,  3,  4,  5,  6,  7,  8,  9, 10, 11, 12],\n",
              "       [ 0,  1,  2,  3,  4,  5,  6,  7,  8,  9, 10, 11, 12],\n",
              "       [ 0,  1,  2,  3,  4,  5,  6,  7,  8,  9, 10, 11, 12],\n",
              "       [ 0,  1,  2,  3,  4,  5,  6,  7,  8,  9, 10, 11, 12]], dtype=int32)>"
            ]
          },
          "metadata": {},
          "execution_count": 22
        }
      ]
    },
    {
      "cell_type": "code",
      "source": [
        "x = [1, 2, 3,99, 95, 200]\n",
        "y = [4, 5, 6]\n",
        "X, Y = tf.meshgrid(x, y)\n",
        "X, Y"
      ],
      "metadata": {
        "colab": {
          "base_uri": "https://localhost:8080/"
        },
        "id": "WORx8cguBKOo",
        "outputId": "8f0e8c97-aa1d-4e4f-f67c-3ae75ca5b545"
      },
      "execution_count": 30,
      "outputs": [
        {
          "output_type": "execute_result",
          "data": {
            "text/plain": [
              "(<tf.Tensor: shape=(3, 6), dtype=int32, numpy=\n",
              " array([[  1,   2,   3,  99,  95, 200],\n",
              "        [  1,   2,   3,  99,  95, 200],\n",
              "        [  1,   2,   3,  99,  95, 200]], dtype=int32)>,\n",
              " <tf.Tensor: shape=(3, 6), dtype=int32, numpy=\n",
              " array([[4, 4, 4, 4, 4, 4],\n",
              "        [5, 5, 5, 5, 5, 5],\n",
              "        [6, 6, 6, 6, 6, 6]], dtype=int32)>)"
            ]
          },
          "metadata": {},
          "execution_count": 30
        }
      ]
    },
    {
      "cell_type": "code",
      "source": [
        "x = [1, 2, 3, 4]\n",
        "y = [1, 2, 3, 4]\n",
        "tf.meshgrid(x, y)"
      ],
      "metadata": {
        "colab": {
          "base_uri": "https://localhost:8080/"
        },
        "id": "4mwMIs8NC_FH",
        "outputId": "40873443-0c56-4a7f-9081-bed464f80cf2"
      },
      "execution_count": 33,
      "outputs": [
        {
          "output_type": "execute_result",
          "data": {
            "text/plain": [
              "[<tf.Tensor: shape=(4, 4), dtype=int32, numpy=\n",
              " array([[1, 2, 3, 4],\n",
              "        [1, 2, 3, 4],\n",
              "        [1, 2, 3, 4],\n",
              "        [1, 2, 3, 4]], dtype=int32)>,\n",
              " <tf.Tensor: shape=(4, 4), dtype=int32, numpy=\n",
              " array([[1, 1, 1, 1],\n",
              "        [2, 2, 2, 2],\n",
              "        [3, 3, 3, 3],\n",
              "        [4, 4, 4, 4]], dtype=int32)>]"
            ]
          },
          "metadata": {},
          "execution_count": 33
        }
      ]
    },
    {
      "cell_type": "code",
      "source": [
        "xy_grid = tf.meshgrid(tf.range(output_size), tf.range(output_size))\n",
        "xy_grid"
      ],
      "metadata": {
        "colab": {
          "base_uri": "https://localhost:8080/"
        },
        "id": "1xsGg67a-owD",
        "outputId": "d1146e4b-6d8e-4c5c-a0b5-952f40b9d948"
      },
      "execution_count": 41,
      "outputs": [
        {
          "output_type": "execute_result",
          "data": {
            "text/plain": [
              "[<tf.Tensor: shape=(13, 13), dtype=int32, numpy=\n",
              " array([[ 0,  1,  2,  3,  4,  5,  6,  7,  8,  9, 10, 11, 12],\n",
              "        [ 0,  1,  2,  3,  4,  5,  6,  7,  8,  9, 10, 11, 12],\n",
              "        [ 0,  1,  2,  3,  4,  5,  6,  7,  8,  9, 10, 11, 12],\n",
              "        [ 0,  1,  2,  3,  4,  5,  6,  7,  8,  9, 10, 11, 12],\n",
              "        [ 0,  1,  2,  3,  4,  5,  6,  7,  8,  9, 10, 11, 12],\n",
              "        [ 0,  1,  2,  3,  4,  5,  6,  7,  8,  9, 10, 11, 12],\n",
              "        [ 0,  1,  2,  3,  4,  5,  6,  7,  8,  9, 10, 11, 12],\n",
              "        [ 0,  1,  2,  3,  4,  5,  6,  7,  8,  9, 10, 11, 12],\n",
              "        [ 0,  1,  2,  3,  4,  5,  6,  7,  8,  9, 10, 11, 12],\n",
              "        [ 0,  1,  2,  3,  4,  5,  6,  7,  8,  9, 10, 11, 12],\n",
              "        [ 0,  1,  2,  3,  4,  5,  6,  7,  8,  9, 10, 11, 12],\n",
              "        [ 0,  1,  2,  3,  4,  5,  6,  7,  8,  9, 10, 11, 12],\n",
              "        [ 0,  1,  2,  3,  4,  5,  6,  7,  8,  9, 10, 11, 12]], dtype=int32)>,\n",
              " <tf.Tensor: shape=(13, 13), dtype=int32, numpy=\n",
              " array([[ 0,  0,  0,  0,  0,  0,  0,  0,  0,  0,  0,  0,  0],\n",
              "        [ 1,  1,  1,  1,  1,  1,  1,  1,  1,  1,  1,  1,  1],\n",
              "        [ 2,  2,  2,  2,  2,  2,  2,  2,  2,  2,  2,  2,  2],\n",
              "        [ 3,  3,  3,  3,  3,  3,  3,  3,  3,  3,  3,  3,  3],\n",
              "        [ 4,  4,  4,  4,  4,  4,  4,  4,  4,  4,  4,  4,  4],\n",
              "        [ 5,  5,  5,  5,  5,  5,  5,  5,  5,  5,  5,  5,  5],\n",
              "        [ 6,  6,  6,  6,  6,  6,  6,  6,  6,  6,  6,  6,  6],\n",
              "        [ 7,  7,  7,  7,  7,  7,  7,  7,  7,  7,  7,  7,  7],\n",
              "        [ 8,  8,  8,  8,  8,  8,  8,  8,  8,  8,  8,  8,  8],\n",
              "        [ 9,  9,  9,  9,  9,  9,  9,  9,  9,  9,  9,  9,  9],\n",
              "        [10, 10, 10, 10, 10, 10, 10, 10, 10, 10, 10, 10, 10],\n",
              "        [11, 11, 11, 11, 11, 11, 11, 11, 11, 11, 11, 11, 11],\n",
              "        [12, 12, 12, 12, 12, 12, 12, 12, 12, 12, 12, 12, 12]], dtype=int32)>]"
            ]
          },
          "metadata": {},
          "execution_count": 41
        }
      ]
    },
    {
      "cell_type": "code",
      "source": [
        "xy_grid = tf.expand_dims(tf.stack(xy_grid, axis=-1), axis=2)  # [gx, gy, 1, 2]\n",
        "xy_grid"
      ],
      "metadata": {
        "colab": {
          "base_uri": "https://localhost:8080/"
        },
        "id": "7yHQKNf7B3OD",
        "outputId": "67824997-c2b9-4701-fe42-584ddfffaa6c"
      },
      "execution_count": 40,
      "outputs": [
        {
          "output_type": "execute_result",
          "data": {
            "text/plain": [
              "<tf.Tensor: shape=(13, 13, 1, 13, 3), dtype=int32, numpy=\n",
              "array([[[[[ 0,  0,  0],\n",
              "          [ 0,  0,  1],\n",
              "          [ 0,  0,  2],\n",
              "          ...,\n",
              "          [ 0,  0, 10],\n",
              "          [ 0,  0, 11],\n",
              "          [ 0,  0, 12]]],\n",
              "\n",
              "\n",
              "        [[[ 1,  0,  0],\n",
              "          [ 1,  0,  1],\n",
              "          [ 1,  0,  2],\n",
              "          ...,\n",
              "          [ 1,  0, 10],\n",
              "          [ 1,  0, 11],\n",
              "          [ 1,  0, 12]]],\n",
              "\n",
              "\n",
              "        [[[ 2,  0,  0],\n",
              "          [ 2,  0,  1],\n",
              "          [ 2,  0,  2],\n",
              "          ...,\n",
              "          [ 2,  0, 10],\n",
              "          [ 2,  0, 11],\n",
              "          [ 2,  0, 12]]],\n",
              "\n",
              "\n",
              "        ...,\n",
              "\n",
              "\n",
              "        [[[10,  0,  0],\n",
              "          [10,  0,  1],\n",
              "          [10,  0,  2],\n",
              "          ...,\n",
              "          [10,  0, 10],\n",
              "          [10,  0, 11],\n",
              "          [10,  0, 12]]],\n",
              "\n",
              "\n",
              "        [[[11,  0,  0],\n",
              "          [11,  0,  1],\n",
              "          [11,  0,  2],\n",
              "          ...,\n",
              "          [11,  0, 10],\n",
              "          [11,  0, 11],\n",
              "          [11,  0, 12]]],\n",
              "\n",
              "\n",
              "        [[[12,  0,  0],\n",
              "          [12,  0,  1],\n",
              "          [12,  0,  2],\n",
              "          ...,\n",
              "          [12,  0, 10],\n",
              "          [12,  0, 11],\n",
              "          [12,  0, 12]]]],\n",
              "\n",
              "\n",
              "\n",
              "       [[[[ 0,  1,  0],\n",
              "          [ 0,  1,  1],\n",
              "          [ 0,  1,  2],\n",
              "          ...,\n",
              "          [ 0,  1, 10],\n",
              "          [ 0,  1, 11],\n",
              "          [ 0,  1, 12]]],\n",
              "\n",
              "\n",
              "        [[[ 1,  1,  0],\n",
              "          [ 1,  1,  1],\n",
              "          [ 1,  1,  2],\n",
              "          ...,\n",
              "          [ 1,  1, 10],\n",
              "          [ 1,  1, 11],\n",
              "          [ 1,  1, 12]]],\n",
              "\n",
              "\n",
              "        [[[ 2,  1,  0],\n",
              "          [ 2,  1,  1],\n",
              "          [ 2,  1,  2],\n",
              "          ...,\n",
              "          [ 2,  1, 10],\n",
              "          [ 2,  1, 11],\n",
              "          [ 2,  1, 12]]],\n",
              "\n",
              "\n",
              "        ...,\n",
              "\n",
              "\n",
              "        [[[10,  1,  0],\n",
              "          [10,  1,  1],\n",
              "          [10,  1,  2],\n",
              "          ...,\n",
              "          [10,  1, 10],\n",
              "          [10,  1, 11],\n",
              "          [10,  1, 12]]],\n",
              "\n",
              "\n",
              "        [[[11,  1,  0],\n",
              "          [11,  1,  1],\n",
              "          [11,  1,  2],\n",
              "          ...,\n",
              "          [11,  1, 10],\n",
              "          [11,  1, 11],\n",
              "          [11,  1, 12]]],\n",
              "\n",
              "\n",
              "        [[[12,  1,  0],\n",
              "          [12,  1,  1],\n",
              "          [12,  1,  2],\n",
              "          ...,\n",
              "          [12,  1, 10],\n",
              "          [12,  1, 11],\n",
              "          [12,  1, 12]]]],\n",
              "\n",
              "\n",
              "\n",
              "       [[[[ 0,  2,  0],\n",
              "          [ 0,  2,  1],\n",
              "          [ 0,  2,  2],\n",
              "          ...,\n",
              "          [ 0,  2, 10],\n",
              "          [ 0,  2, 11],\n",
              "          [ 0,  2, 12]]],\n",
              "\n",
              "\n",
              "        [[[ 1,  2,  0],\n",
              "          [ 1,  2,  1],\n",
              "          [ 1,  2,  2],\n",
              "          ...,\n",
              "          [ 1,  2, 10],\n",
              "          [ 1,  2, 11],\n",
              "          [ 1,  2, 12]]],\n",
              "\n",
              "\n",
              "        [[[ 2,  2,  0],\n",
              "          [ 2,  2,  1],\n",
              "          [ 2,  2,  2],\n",
              "          ...,\n",
              "          [ 2,  2, 10],\n",
              "          [ 2,  2, 11],\n",
              "          [ 2,  2, 12]]],\n",
              "\n",
              "\n",
              "        ...,\n",
              "\n",
              "\n",
              "        [[[10,  2,  0],\n",
              "          [10,  2,  1],\n",
              "          [10,  2,  2],\n",
              "          ...,\n",
              "          [10,  2, 10],\n",
              "          [10,  2, 11],\n",
              "          [10,  2, 12]]],\n",
              "\n",
              "\n",
              "        [[[11,  2,  0],\n",
              "          [11,  2,  1],\n",
              "          [11,  2,  2],\n",
              "          ...,\n",
              "          [11,  2, 10],\n",
              "          [11,  2, 11],\n",
              "          [11,  2, 12]]],\n",
              "\n",
              "\n",
              "        [[[12,  2,  0],\n",
              "          [12,  2,  1],\n",
              "          [12,  2,  2],\n",
              "          ...,\n",
              "          [12,  2, 10],\n",
              "          [12,  2, 11],\n",
              "          [12,  2, 12]]]],\n",
              "\n",
              "\n",
              "\n",
              "       ...,\n",
              "\n",
              "\n",
              "\n",
              "       [[[[ 0, 10,  0],\n",
              "          [ 0, 10,  1],\n",
              "          [ 0, 10,  2],\n",
              "          ...,\n",
              "          [ 0, 10, 10],\n",
              "          [ 0, 10, 11],\n",
              "          [ 0, 10, 12]]],\n",
              "\n",
              "\n",
              "        [[[ 1, 10,  0],\n",
              "          [ 1, 10,  1],\n",
              "          [ 1, 10,  2],\n",
              "          ...,\n",
              "          [ 1, 10, 10],\n",
              "          [ 1, 10, 11],\n",
              "          [ 1, 10, 12]]],\n",
              "\n",
              "\n",
              "        [[[ 2, 10,  0],\n",
              "          [ 2, 10,  1],\n",
              "          [ 2, 10,  2],\n",
              "          ...,\n",
              "          [ 2, 10, 10],\n",
              "          [ 2, 10, 11],\n",
              "          [ 2, 10, 12]]],\n",
              "\n",
              "\n",
              "        ...,\n",
              "\n",
              "\n",
              "        [[[10, 10,  0],\n",
              "          [10, 10,  1],\n",
              "          [10, 10,  2],\n",
              "          ...,\n",
              "          [10, 10, 10],\n",
              "          [10, 10, 11],\n",
              "          [10, 10, 12]]],\n",
              "\n",
              "\n",
              "        [[[11, 10,  0],\n",
              "          [11, 10,  1],\n",
              "          [11, 10,  2],\n",
              "          ...,\n",
              "          [11, 10, 10],\n",
              "          [11, 10, 11],\n",
              "          [11, 10, 12]]],\n",
              "\n",
              "\n",
              "        [[[12, 10,  0],\n",
              "          [12, 10,  1],\n",
              "          [12, 10,  2],\n",
              "          ...,\n",
              "          [12, 10, 10],\n",
              "          [12, 10, 11],\n",
              "          [12, 10, 12]]]],\n",
              "\n",
              "\n",
              "\n",
              "       [[[[ 0, 11,  0],\n",
              "          [ 0, 11,  1],\n",
              "          [ 0, 11,  2],\n",
              "          ...,\n",
              "          [ 0, 11, 10],\n",
              "          [ 0, 11, 11],\n",
              "          [ 0, 11, 12]]],\n",
              "\n",
              "\n",
              "        [[[ 1, 11,  0],\n",
              "          [ 1, 11,  1],\n",
              "          [ 1, 11,  2],\n",
              "          ...,\n",
              "          [ 1, 11, 10],\n",
              "          [ 1, 11, 11],\n",
              "          [ 1, 11, 12]]],\n",
              "\n",
              "\n",
              "        [[[ 2, 11,  0],\n",
              "          [ 2, 11,  1],\n",
              "          [ 2, 11,  2],\n",
              "          ...,\n",
              "          [ 2, 11, 10],\n",
              "          [ 2, 11, 11],\n",
              "          [ 2, 11, 12]]],\n",
              "\n",
              "\n",
              "        ...,\n",
              "\n",
              "\n",
              "        [[[10, 11,  0],\n",
              "          [10, 11,  1],\n",
              "          [10, 11,  2],\n",
              "          ...,\n",
              "          [10, 11, 10],\n",
              "          [10, 11, 11],\n",
              "          [10, 11, 12]]],\n",
              "\n",
              "\n",
              "        [[[11, 11,  0],\n",
              "          [11, 11,  1],\n",
              "          [11, 11,  2],\n",
              "          ...,\n",
              "          [11, 11, 10],\n",
              "          [11, 11, 11],\n",
              "          [11, 11, 12]]],\n",
              "\n",
              "\n",
              "        [[[12, 11,  0],\n",
              "          [12, 11,  1],\n",
              "          [12, 11,  2],\n",
              "          ...,\n",
              "          [12, 11, 10],\n",
              "          [12, 11, 11],\n",
              "          [12, 11, 12]]]],\n",
              "\n",
              "\n",
              "\n",
              "       [[[[ 0, 12,  0],\n",
              "          [ 0, 12,  1],\n",
              "          [ 0, 12,  2],\n",
              "          ...,\n",
              "          [ 0, 12, 10],\n",
              "          [ 0, 12, 11],\n",
              "          [ 0, 12, 12]]],\n",
              "\n",
              "\n",
              "        [[[ 1, 12,  0],\n",
              "          [ 1, 12,  1],\n",
              "          [ 1, 12,  2],\n",
              "          ...,\n",
              "          [ 1, 12, 10],\n",
              "          [ 1, 12, 11],\n",
              "          [ 1, 12, 12]]],\n",
              "\n",
              "\n",
              "        [[[ 2, 12,  0],\n",
              "          [ 2, 12,  1],\n",
              "          [ 2, 12,  2],\n",
              "          ...,\n",
              "          [ 2, 12, 10],\n",
              "          [ 2, 12, 11],\n",
              "          [ 2, 12, 12]]],\n",
              "\n",
              "\n",
              "        ...,\n",
              "\n",
              "\n",
              "        [[[10, 12,  0],\n",
              "          [10, 12,  1],\n",
              "          [10, 12,  2],\n",
              "          ...,\n",
              "          [10, 12, 10],\n",
              "          [10, 12, 11],\n",
              "          [10, 12, 12]]],\n",
              "\n",
              "\n",
              "        [[[11, 12,  0],\n",
              "          [11, 12,  1],\n",
              "          [11, 12,  2],\n",
              "          ...,\n",
              "          [11, 12, 10],\n",
              "          [11, 12, 11],\n",
              "          [11, 12, 12]]],\n",
              "\n",
              "\n",
              "        [[[12, 12,  0],\n",
              "          [12, 12,  1],\n",
              "          [12, 12,  2],\n",
              "          ...,\n",
              "          [12, 12, 10],\n",
              "          [12, 12, 11],\n",
              "          [12, 12, 12]]]]], dtype=int32)>"
            ]
          },
          "metadata": {},
          "execution_count": 40
        }
      ]
    },
    {
      "cell_type": "code",
      "source": [
        "xy_grid = tf.tile(tf.expand_dims(xy_grid, axis=0), [32, 1, 1, 3, 1])\n",
        "xy_grid"
      ],
      "metadata": {
        "id": "fQ7iUl50CA01"
      },
      "execution_count": null,
      "outputs": []
    },
    {
      "cell_type": "code",
      "source": [
        "xy_grid = tf.cast(xy_grid, tf.float32)\n",
        "xy_grid"
      ],
      "metadata": {
        "id": "2vUKsV_bCPkx"
      },
      "execution_count": null,
      "outputs": []
    },
    {
      "cell_type": "code",
      "source": [
        "xy_grid = tf.concat([x[:, :, tf.newaxis], y[:, :, tf.newaxis]], axis=-1)\n",
        "xy_grid"
      ],
      "metadata": {
        "id": "iv-zoP9PCQ5J"
      },
      "execution_count": null,
      "outputs": []
    },
    {
      "cell_type": "code",
      "source": [
        ""
      ],
      "metadata": {
        "id": "rCypwIYYei9R"
      },
      "execution_count": null,
      "outputs": []
    }
  ]
}