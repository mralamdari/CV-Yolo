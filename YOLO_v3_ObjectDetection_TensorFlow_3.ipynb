{
  "nbformat": 4,
  "nbformat_minor": 0,
  "metadata": {
    "colab": {
      "name": "YOLO_v3_ObjectDetection_TensorFlow_3.ipynb",
      "provenance": [],
      "collapsed_sections": [],
      "mount_file_id": "1gCcO2AQlQ7yPjhManytzBubME16kuSDj",
      "authorship_tag": "ABX9TyNlSR7T4eA/+MHGwoXEEGZd",
      "include_colab_link": true
    },
    "kernelspec": {
      "name": "python3",
      "display_name": "Python 3"
    },
    "language_info": {
      "name": "python"
    }
  },
  "cells": [
    {
      "cell_type": "markdown",
      "metadata": {
        "id": "view-in-github",
        "colab_type": "text"
      },
      "source": [
        "<a href=\"https://colab.research.google.com/github/mralamdari/CV-Yolo/blob/main/YOLO_v3_ObjectDetection_TensorFlow_3.ipynb\" target=\"_parent\"><img src=\"https://colab.research.google.com/assets/colab-badge.svg\" alt=\"Open In Colab\"/></a>"
      ]
    },
    {
      "cell_type": "code",
      "source": [
        "import numpy as np\n",
        "\n",
        "!wget -P model_data https://pjreddie.com/media/files/yolov3.weights"
      ],
      "metadata": {
        "colab": {
          "base_uri": "https://localhost:8080/"
        },
        "id": "T8HZWSI3gkwx",
        "outputId": "556ee91f-59d7-4fa4-e1f6-012e614a268b"
      },
      "execution_count": 1,
      "outputs": [
        {
          "output_type": "stream",
          "name": "stdout",
          "text": [
            "--2022-08-14 03:10:11--  https://pjreddie.com/media/files/yolov3.weights\n",
            "Resolving pjreddie.com (pjreddie.com)... 128.208.4.108\n",
            "Connecting to pjreddie.com (pjreddie.com)|128.208.4.108|:443... connected.\n",
            "HTTP request sent, awaiting response... 200 OK\n",
            "Length: 248007048 (237M) [application/octet-stream]\n",
            "Saving to: ‘model_data/yolov3.weights’\n",
            "\n",
            "yolov3.weights      100%[===================>] 236.52M  62.1MB/s    in 4.1s    \n",
            "\n",
            "2022-08-14 03:10:16 (58.3 MB/s) - ‘model_data/yolov3.weights’ saved [248007048/248007048]\n",
            "\n"
          ]
        }
      ]
    },
    {
      "cell_type": "code",
      "source": [
        "with open('model_data/yolov3.weights', 'rb') as wf:\n",
        "    major, minor, revision, seen, _ = np.fromfile(wf, dtype=np.int32, count=5)\n",
        "\n",
        "    weights_1 = np.fromfile(wf, dtype=np.float32, count=2)\n",
        "    weights_2 = np.fromfile(wf, dtype=np.float32, count=20)\n",
        "    weights_3 = np.fromfile(wf, dtype=np.float32)\n",
        "\n",
        "\n"
      ],
      "metadata": {
        "id": "z8oGUcMRe_jT"
      },
      "execution_count": 2,
      "outputs": []
    },
    {
      "cell_type": "code",
      "source": [
        "major, minor, revision, seen, _ "
      ],
      "metadata": {
        "colab": {
          "base_uri": "https://localhost:8080/"
        },
        "id": "WRTE5Si9i8Bp",
        "outputId": "b87cfe69-576d-4a30-d339-fd051c8ae041"
      },
      "execution_count": 3,
      "outputs": [
        {
          "output_type": "execute_result",
          "data": {
            "text/plain": [
              "(0, 2, 0, 32013312, 0)"
            ]
          },
          "metadata": {},
          "execution_count": 3
        }
      ]
    },
    {
      "cell_type": "code",
      "source": [
        "weights_1"
      ],
      "metadata": {
        "colab": {
          "base_uri": "https://localhost:8080/"
        },
        "id": "vm0-SBQlkHIg",
        "outputId": "0302d2f5-de94-4ff7-9274-18a006ac0a5c"
      },
      "execution_count": 4,
      "outputs": [
        {
          "output_type": "execute_result",
          "data": {
            "text/plain": [
              "array([-4.316885 , -0.7578076], dtype=float32)"
            ]
          },
          "metadata": {},
          "execution_count": 4
        }
      ]
    },
    {
      "cell_type": "code",
      "source": [
        "weights_2"
      ],
      "metadata": {
        "colab": {
          "base_uri": "https://localhost:8080/"
        },
        "id": "i1omPmvfkIEY",
        "outputId": "b9c7608a-20c6-464c-c177-31475624bfc1"
      },
      "execution_count": 5,
      "outputs": [
        {
          "output_type": "execute_result",
          "data": {
            "text/plain": [
              "array([-2.1098018 ,  1.7402638 ,  1.4071269 , -3.0952053 , -0.38860837,\n",
              "        0.75603795,  1.982805  ,  1.2893223 ,  0.652888  ,  2.6263633 ,\n",
              "        2.3013082 , -2.04827   , -3.7340226 , -2.0467598 ,  3.845535  ,\n",
              "       -1.0419698 , -0.30135924, -0.35420752, -3.5354283 , -2.628548  ],\n",
              "      dtype=float32)"
            ]
          },
          "metadata": {},
          "execution_count": 5
        }
      ]
    },
    {
      "cell_type": "code",
      "source": [
        "weights_3"
      ],
      "metadata": {
        "colab": {
          "base_uri": "https://localhost:8080/"
        },
        "id": "IRVyop5kkOM8",
        "outputId": "b42a5c43-b867-4ec3-e231-e7a1cf3d8219"
      },
      "execution_count": 6,
      "outputs": [
        {
          "output_type": "execute_result",
          "data": {
            "text/plain": [
              "array([ 0.74821305,  0.3917957 ,  2.3627155 , ..., -0.03373355,\n",
              "       -0.04969028, -0.11880384], dtype=float32)"
            ]
          },
          "metadata": {},
          "execution_count": 6
        }
      ]
    },
    {
      "cell_type": "code",
      "source": [
        "weights_3.shape"
      ],
      "metadata": {
        "colab": {
          "base_uri": "https://localhost:8080/"
        },
        "id": "VxrdkeZ1kUQQ",
        "outputId": "c4c53d35-b6ad-4e34-f3c3-ffb70b00b63f"
      },
      "execution_count": 7,
      "outputs": [
        {
          "output_type": "execute_result",
          "data": {
            "text/plain": [
              "(62001735,)"
            ]
          },
          "metadata": {},
          "execution_count": 7
        }
      ]
    },
    {
      "cell_type": "code",
      "source": [
        "import tensorflow as tf\n",
        "\n",
        "# tf.config.experimental.list_physical_devices('GPU')\n",
        "tf.config.list_physical_devices('GPU')"
      ],
      "metadata": {
        "id": "XF2IHDIP6-xk",
        "colab": {
          "base_uri": "https://localhost:8080/"
        },
        "outputId": "80eef298-c39f-4926-dd4f-c889abb3ae84"
      },
      "execution_count": 8,
      "outputs": [
        {
          "output_type": "execute_result",
          "data": {
            "text/plain": [
              "[]"
            ]
          },
          "metadata": {},
          "execution_count": 8
        }
      ]
    },
    {
      "cell_type": "code",
      "source": [
        "physical_devices = tf.config.list_physical_devices('GPU')\n",
        "if len(physical_devices) > 0:\n",
        "    try: \n",
        "      tf.config.set_memory_growth(physical_devices[0], True)\n",
        "    except RuntimeError:\n",
        "      pass"
      ],
      "metadata": {
        "id": "l18cKNdQxyYP"
      },
      "execution_count": 27,
      "outputs": []
    },
    {
      "cell_type": "code",
      "source": [
        "X = tf.random.normal([512, 32]);\n",
        "Y = tf.split(X,128,0)\n",
        "Y_shape = tf.shape(Y[0])\n",
        "Y_shape2 = tf.shape(Y[1])\n",
        "\n",
        "\n",
        "print(len(X))\n",
        "print(len(Y))\n",
        "print(Y_shape)\n",
        "print(Y_shape2)\n"
      ],
      "metadata": {
        "colab": {
          "base_uri": "https://localhost:8080/"
        },
        "id": "orbotmDfU_nZ",
        "outputId": "d8a490c3-9528-4fdc-c98c-997564e74cc9"
      },
      "execution_count": 26,
      "outputs": [
        {
          "output_type": "stream",
          "name": "stdout",
          "text": [
            "512\n",
            "128\n",
            "tf.Tensor([ 4 32], shape=(2,), dtype=int32)\n",
            "tf.Tensor([ 4 32], shape=(2,), dtype=int32)\n"
          ]
        }
      ]
    },
    {
      "cell_type": "code",
      "source": [
        "X.shape"
      ],
      "metadata": {
        "colab": {
          "base_uri": "https://localhost:8080/"
        },
        "id": "CnALvRQdVDS6",
        "outputId": "3a5c9a9b-70df-4fa1-83a1-439a4938f0b2"
      },
      "execution_count": 19,
      "outputs": [
        {
          "output_type": "execute_result",
          "data": {
            "text/plain": [
              "TensorShape([256, 32])"
            ]
          },
          "metadata": {},
          "execution_count": 19
        }
      ]
    },
    {
      "cell_type": "code",
      "source": [
        ""
      ],
      "metadata": {
        "id": "klw4o0WoWL4W"
      },
      "execution_count": null,
      "outputs": []
    }
  ]
}