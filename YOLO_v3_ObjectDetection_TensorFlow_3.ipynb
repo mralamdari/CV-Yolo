{
  "nbformat": 4,
  "nbformat_minor": 0,
  "metadata": {
    "colab": {
      "name": "YOLO_v3_ObjectDetection_TensorFlow_3.ipynb",
      "provenance": [],
      "collapsed_sections": [],
      "mount_file_id": "1gCcO2AQlQ7yPjhManytzBubME16kuSDj",
      "authorship_tag": "ABX9TyPINDjz0m/Me7BGAixHheKU",
      "include_colab_link": true
    },
    "kernelspec": {
      "name": "python3",
      "display_name": "Python 3"
    },
    "language_info": {
      "name": "python"
    }
  },
  "cells": [
    {
      "cell_type": "markdown",
      "metadata": {
        "id": "view-in-github",
        "colab_type": "text"
      },
      "source": [
        "<a href=\"https://colab.research.google.com/github/mralamdari/CV-Yolo/blob/main/YOLO_v3_ObjectDetection_TensorFlow_3.ipynb\" target=\"_parent\"><img src=\"https://colab.research.google.com/assets/colab-badge.svg\" alt=\"Open In Colab\"/></a>"
      ]
    },
    {
      "cell_type": "code",
      "source": [
        "import numpy as np\n",
        "\n",
        "!wget -P model_data https://pjreddie.com/media/files/yolov3.weights"
      ],
      "metadata": {
        "colab": {
          "base_uri": "https://localhost:8080/"
        },
        "id": "T8HZWSI3gkwx",
        "outputId": "05697e5d-7ac1-4ad0-cc1f-23586d112a9e"
      },
      "execution_count": 1,
      "outputs": [
        {
          "output_type": "stream",
          "name": "stdout",
          "text": [
            "--2022-08-16 04:55:41--  https://pjreddie.com/media/files/yolov3.weights\n",
            "Resolving pjreddie.com (pjreddie.com)... 128.208.4.108\n",
            "Connecting to pjreddie.com (pjreddie.com)|128.208.4.108|:443... connected.\n",
            "HTTP request sent, awaiting response... 200 OK\n",
            "Length: 248007048 (237M) [application/octet-stream]\n",
            "Saving to: ‘model_data/yolov3.weights’\n",
            "\n",
            "yolov3.weights      100%[===================>] 236.52M  44.8MB/s    in 5.7s    \n",
            "\n",
            "2022-08-16 04:55:47 (41.7 MB/s) - ‘model_data/yolov3.weights’ saved [248007048/248007048]\n",
            "\n"
          ]
        }
      ]
    },
    {
      "cell_type": "code",
      "source": [
        "with open('model_data/yolov3.weights', 'rb') as wf:\n",
        "    major, minor, revision, seen, _ = np.fromfile(wf, dtype=np.int32, count=5)\n",
        "\n",
        "    weights_1 = np.fromfile(wf, dtype=np.float32, count=2)\n",
        "    weights_2 = np.fromfile(wf, dtype=np.float32, count=20)\n",
        "    weights_3 = np.fromfile(wf, dtype=np.float32)\n",
        "\n",
        "\n"
      ],
      "metadata": {
        "id": "z8oGUcMRe_jT"
      },
      "execution_count": 2,
      "outputs": []
    },
    {
      "cell_type": "code",
      "source": [
        "major, minor, revision, seen, _ "
      ],
      "metadata": {
        "colab": {
          "base_uri": "https://localhost:8080/"
        },
        "id": "WRTE5Si9i8Bp",
        "outputId": "cb7a81da-4551-465a-e846-09daf730cdcd"
      },
      "execution_count": 3,
      "outputs": [
        {
          "output_type": "execute_result",
          "data": {
            "text/plain": [
              "(0, 2, 0, 32013312, 0)"
            ]
          },
          "metadata": {},
          "execution_count": 3
        }
      ]
    },
    {
      "cell_type": "code",
      "source": [
        "weights_1"
      ],
      "metadata": {
        "colab": {
          "base_uri": "https://localhost:8080/"
        },
        "id": "vm0-SBQlkHIg",
        "outputId": "3a71091c-4b4a-47ee-9a45-7d590e29cb41"
      },
      "execution_count": 4,
      "outputs": [
        {
          "output_type": "execute_result",
          "data": {
            "text/plain": [
              "array([-4.316885 , -0.7578076], dtype=float32)"
            ]
          },
          "metadata": {},
          "execution_count": 4
        }
      ]
    },
    {
      "cell_type": "code",
      "source": [
        "weights_2"
      ],
      "metadata": {
        "colab": {
          "base_uri": "https://localhost:8080/"
        },
        "id": "i1omPmvfkIEY",
        "outputId": "84f2a127-ce1c-45b7-b941-04006ea58de1"
      },
      "execution_count": 5,
      "outputs": [
        {
          "output_type": "execute_result",
          "data": {
            "text/plain": [
              "array([-2.1098018 ,  1.7402638 ,  1.4071269 , -3.0952053 , -0.38860837,\n",
              "        0.75603795,  1.982805  ,  1.2893223 ,  0.652888  ,  2.6263633 ,\n",
              "        2.3013082 , -2.04827   , -3.7340226 , -2.0467598 ,  3.845535  ,\n",
              "       -1.0419698 , -0.30135924, -0.35420752, -3.5354283 , -2.628548  ],\n",
              "      dtype=float32)"
            ]
          },
          "metadata": {},
          "execution_count": 5
        }
      ]
    },
    {
      "cell_type": "code",
      "source": [
        "weights_3"
      ],
      "metadata": {
        "colab": {
          "base_uri": "https://localhost:8080/"
        },
        "id": "IRVyop5kkOM8",
        "outputId": "df4593c8-aa99-4d1c-a0ff-28c4ab27500d"
      },
      "execution_count": 6,
      "outputs": [
        {
          "output_type": "execute_result",
          "data": {
            "text/plain": [
              "array([ 0.74821305,  0.3917957 ,  2.3627155 , ..., -0.03373355,\n",
              "       -0.04969028, -0.11880384], dtype=float32)"
            ]
          },
          "metadata": {},
          "execution_count": 6
        }
      ]
    },
    {
      "cell_type": "code",
      "source": [
        "weights_3.shape"
      ],
      "metadata": {
        "colab": {
          "base_uri": "https://localhost:8080/"
        },
        "id": "VxrdkeZ1kUQQ",
        "outputId": "bb5b8840-ddab-43b9-bbd9-7aa8a2b93e41"
      },
      "execution_count": 7,
      "outputs": [
        {
          "output_type": "execute_result",
          "data": {
            "text/plain": [
              "(62001735,)"
            ]
          },
          "metadata": {},
          "execution_count": 7
        }
      ]
    },
    {
      "cell_type": "code",
      "source": [
        "import tensorflow as tf\n",
        "\n",
        "# tf.config.experimental.list_physical_devices('GPU')\n",
        "tf.config.list_physical_devices('GPU')"
      ],
      "metadata": {
        "id": "XF2IHDIP6-xk",
        "colab": {
          "base_uri": "https://localhost:8080/"
        },
        "outputId": "1344cc3d-9765-43ab-d516-d1f035313fb0"
      },
      "execution_count": 8,
      "outputs": [
        {
          "output_type": "execute_result",
          "data": {
            "text/plain": [
              "[]"
            ]
          },
          "metadata": {},
          "execution_count": 8
        }
      ]
    },
    {
      "cell_type": "code",
      "source": [
        "physical_devices = tf.config.list_physical_devices('GPU')\n",
        "if len(physical_devices) > 0:\n",
        "    try: \n",
        "      tf.config.set_memory_growth(physical_devices[0], True)\n",
        "    except RuntimeError:\n",
        "      pass"
      ],
      "metadata": {
        "id": "l18cKNdQxyYP"
      },
      "execution_count": 9,
      "outputs": []
    },
    {
      "cell_type": "code",
      "source": [
        "X = tf.random.normal([512, 32]);\n",
        "Y = tf.split(X,128,0)\n",
        "Y_shape = tf.shape(Y[0])\n",
        "Y_shape2 = tf.shape(Y[1])\n",
        "\n",
        "\n",
        "print(len(X))\n",
        "print(len(Y))\n",
        "print(Y_shape)\n",
        "print(Y_shape2)\n"
      ],
      "metadata": {
        "colab": {
          "base_uri": "https://localhost:8080/"
        },
        "id": "orbotmDfU_nZ",
        "outputId": "2ed0623a-7e24-492e-a4cc-b248ce1ecac8"
      },
      "execution_count": 10,
      "outputs": [
        {
          "output_type": "stream",
          "name": "stdout",
          "text": [
            "512\n",
            "128\n",
            "tf.Tensor([ 4 32], shape=(2,), dtype=int32)\n",
            "tf.Tensor([ 4 32], shape=(2,), dtype=int32)\n"
          ]
        }
      ]
    },
    {
      "cell_type": "code",
      "source": [
        "X.shape"
      ],
      "metadata": {
        "colab": {
          "base_uri": "https://localhost:8080/"
        },
        "id": "CnALvRQdVDS6",
        "outputId": "f85a8e41-9e43-4794-b9a1-a52dabd33252"
      },
      "execution_count": 11,
      "outputs": [
        {
          "output_type": "execute_result",
          "data": {
            "text/plain": [
              "TensorShape([512, 32])"
            ]
          },
          "metadata": {},
          "execution_count": 11
        }
      ]
    },
    {
      "cell_type": "code",
      "source": [
        "a=tf.random_normal_initializer(stddev=0.01)"
      ],
      "metadata": {
        "id": "klw4o0WoWL4W"
      },
      "execution_count": 12,
      "outputs": []
    },
    {
      "cell_type": "code",
      "source": [
        "s=tf.constant_initializer(0.)"
      ],
      "metadata": {
        "id": "3zadjweOLqVC"
      },
      "execution_count": 13,
      "outputs": []
    },
    {
      "cell_type": "code",
      "source": [
        "a"
      ],
      "metadata": {
        "colab": {
          "base_uri": "https://localhost:8080/"
        },
        "id": "rsbKLLjfLqtB",
        "outputId": "ed14d29e-d101-4a0c-cfd2-42abf1342ee1"
      },
      "execution_count": 14,
      "outputs": [
        {
          "output_type": "execute_result",
          "data": {
            "text/plain": [
              "<tensorflow.python.ops.init_ops_v2.RandomNormal at 0x7f8439228d10>"
            ]
          },
          "metadata": {},
          "execution_count": 14
        }
      ]
    },
    {
      "cell_type": "code",
      "source": [
        "tf.split(xy_grid[0], [2, 2, 1, -1], axis=-1)"
      ],
      "metadata": {
        "id": "DtREwFplL6zD",
        "outputId": "4ddb4907-11b8-4808-ef74-f2b4c5fbeabd",
        "colab": {
          "base_uri": "https://localhost:8080/"
        }
      },
      "execution_count": 51,
      "outputs": [
        {
          "output_type": "execute_result",
          "data": {
            "text/plain": [
              "[<tf.Tensor: shape=(13, 2), dtype=int32, numpy=\n",
              " array([[0, 1],\n",
              "        [0, 1],\n",
              "        [0, 1],\n",
              "        [0, 1],\n",
              "        [0, 1],\n",
              "        [0, 1],\n",
              "        [0, 1],\n",
              "        [0, 1],\n",
              "        [0, 1],\n",
              "        [0, 1],\n",
              "        [0, 1],\n",
              "        [0, 1],\n",
              "        [0, 1]], dtype=int32)>, <tf.Tensor: shape=(13, 2), dtype=int32, numpy=\n",
              " array([[2, 3],\n",
              "        [2, 3],\n",
              "        [2, 3],\n",
              "        [2, 3],\n",
              "        [2, 3],\n",
              "        [2, 3],\n",
              "        [2, 3],\n",
              "        [2, 3],\n",
              "        [2, 3],\n",
              "        [2, 3],\n",
              "        [2, 3],\n",
              "        [2, 3],\n",
              "        [2, 3]], dtype=int32)>, <tf.Tensor: shape=(13, 1), dtype=int32, numpy=\n",
              " array([[4],\n",
              "        [4],\n",
              "        [4],\n",
              "        [4],\n",
              "        [4],\n",
              "        [4],\n",
              "        [4],\n",
              "        [4],\n",
              "        [4],\n",
              "        [4],\n",
              "        [4],\n",
              "        [4],\n",
              "        [4]], dtype=int32)>, <tf.Tensor: shape=(13, 8), dtype=int32, numpy=\n",
              " array([[ 5,  6,  7,  8,  9, 10, 11, 12],\n",
              "        [ 5,  6,  7,  8,  9, 10, 11, 12],\n",
              "        [ 5,  6,  7,  8,  9, 10, 11, 12],\n",
              "        [ 5,  6,  7,  8,  9, 10, 11, 12],\n",
              "        [ 5,  6,  7,  8,  9, 10, 11, 12],\n",
              "        [ 5,  6,  7,  8,  9, 10, 11, 12],\n",
              "        [ 5,  6,  7,  8,  9, 10, 11, 12],\n",
              "        [ 5,  6,  7,  8,  9, 10, 11, 12],\n",
              "        [ 5,  6,  7,  8,  9, 10, 11, 12],\n",
              "        [ 5,  6,  7,  8,  9, 10, 11, 12],\n",
              "        [ 5,  6,  7,  8,  9, 10, 11, 12],\n",
              "        [ 5,  6,  7,  8,  9, 10, 11, 12],\n",
              "        [ 5,  6,  7,  8,  9, 10, 11, 12]], dtype=int32)>]"
            ]
          },
          "metadata": {},
          "execution_count": 51
        }
      ]
    },
    {
      "cell_type": "code",
      "source": [
        "output_size = 13\n",
        "y = tf.range(output_size, dtype=tf.int32)\n",
        "y = tf.expand_dims(y, -1)\n",
        "y = tf.tile(y, [1, output_size])\n",
        "x = tf.range(output_size,dtype=tf.int32)\n",
        "x = tf.expand_dims(x, 0)\n",
        "x = tf.tile(x, [output_size, 1])\n",
        "\n",
        "xy_grid = tf.meshgrid(tf.range(output_size), tf.range(output_size))\n",
        "xy_grid = tf.expand_dims(tf.stack(xy_grid, axis=-1), axis=2)  # [gx, gy, 1, 2]\n",
        "xy_grid = tf.tile(tf.expand_dims(xy_grid, axis=0), [32, 1, 1, 3, 1])\n",
        "xy_grid = tf.cast(xy_grid, tf.float32)"
      ],
      "metadata": {
        "id": "UwMzPp6AL8kW"
      },
      "execution_count": 52,
      "outputs": []
    },
    {
      "cell_type": "code",
      "source": [
        "y = tf.range(output_size, dtype=tf.int32)\n",
        "y"
      ],
      "metadata": {
        "colab": {
          "base_uri": "https://localhost:8080/"
        },
        "id": "c6ko2vE82q20",
        "outputId": "06ef701c-d2df-4ef8-dc5c-57d0d511f96b"
      },
      "execution_count": 53,
      "outputs": [
        {
          "output_type": "execute_result",
          "data": {
            "text/plain": [
              "<tf.Tensor: shape=(13,), dtype=int32, numpy=array([ 0,  1,  2,  3,  4,  5,  6,  7,  8,  9, 10, 11, 12], dtype=int32)>"
            ]
          },
          "metadata": {},
          "execution_count": 53
        }
      ]
    },
    {
      "cell_type": "code",
      "source": [
        "y = tf.expand_dims(y, -1)\n",
        "y"
      ],
      "metadata": {
        "colab": {
          "base_uri": "https://localhost:8080/"
        },
        "id": "QeJnfVRK23jD",
        "outputId": "0365c2b4-89a2-4d09-dff9-de0f2b0f476a"
      },
      "execution_count": 54,
      "outputs": [
        {
          "output_type": "execute_result",
          "data": {
            "text/plain": [
              "<tf.Tensor: shape=(13, 1), dtype=int32, numpy=\n",
              "array([[ 0],\n",
              "       [ 1],\n",
              "       [ 2],\n",
              "       [ 3],\n",
              "       [ 4],\n",
              "       [ 5],\n",
              "       [ 6],\n",
              "       [ 7],\n",
              "       [ 8],\n",
              "       [ 9],\n",
              "       [10],\n",
              "       [11],\n",
              "       [12]], dtype=int32)>"
            ]
          },
          "metadata": {},
          "execution_count": 54
        }
      ]
    },
    {
      "cell_type": "code",
      "source": [
        "y = tf.tile(y, [1, output_size])\n",
        "y"
      ],
      "metadata": {
        "colab": {
          "base_uri": "https://localhost:8080/"
        },
        "id": "8q05K3WR2_XE",
        "outputId": "3e472795-13ff-4f61-9c70-d4e6d477569e"
      },
      "execution_count": 55,
      "outputs": [
        {
          "output_type": "execute_result",
          "data": {
            "text/plain": [
              "<tf.Tensor: shape=(13, 13), dtype=int32, numpy=\n",
              "array([[ 0,  0,  0,  0,  0,  0,  0,  0,  0,  0,  0,  0,  0],\n",
              "       [ 1,  1,  1,  1,  1,  1,  1,  1,  1,  1,  1,  1,  1],\n",
              "       [ 2,  2,  2,  2,  2,  2,  2,  2,  2,  2,  2,  2,  2],\n",
              "       [ 3,  3,  3,  3,  3,  3,  3,  3,  3,  3,  3,  3,  3],\n",
              "       [ 4,  4,  4,  4,  4,  4,  4,  4,  4,  4,  4,  4,  4],\n",
              "       [ 5,  5,  5,  5,  5,  5,  5,  5,  5,  5,  5,  5,  5],\n",
              "       [ 6,  6,  6,  6,  6,  6,  6,  6,  6,  6,  6,  6,  6],\n",
              "       [ 7,  7,  7,  7,  7,  7,  7,  7,  7,  7,  7,  7,  7],\n",
              "       [ 8,  8,  8,  8,  8,  8,  8,  8,  8,  8,  8,  8,  8],\n",
              "       [ 9,  9,  9,  9,  9,  9,  9,  9,  9,  9,  9,  9,  9],\n",
              "       [10, 10, 10, 10, 10, 10, 10, 10, 10, 10, 10, 10, 10],\n",
              "       [11, 11, 11, 11, 11, 11, 11, 11, 11, 11, 11, 11, 11],\n",
              "       [12, 12, 12, 12, 12, 12, 12, 12, 12, 12, 12, 12, 12]], dtype=int32)>"
            ]
          },
          "metadata": {},
          "execution_count": 55
        }
      ]
    },
    {
      "cell_type": "code",
      "source": [
        "x = tf.range(output_size,dtype=tf.int32)\n",
        "x = tf.expand_dims(x, 0)\n",
        "x"
      ],
      "metadata": {
        "colab": {
          "base_uri": "https://localhost:8080/"
        },
        "id": "kNbrYIGV3QU5",
        "outputId": "f2c58cbe-0e28-446c-b417-1cb4faf9ced8"
      },
      "execution_count": 56,
      "outputs": [
        {
          "output_type": "execute_result",
          "data": {
            "text/plain": [
              "<tf.Tensor: shape=(1, 13), dtype=int32, numpy=array([[ 0,  1,  2,  3,  4,  5,  6,  7,  8,  9, 10, 11, 12]], dtype=int32)>"
            ]
          },
          "metadata": {},
          "execution_count": 56
        }
      ]
    },
    {
      "cell_type": "code",
      "source": [
        "x = tf.tile(x, [output_size, 1])\n",
        "x"
      ],
      "metadata": {
        "colab": {
          "base_uri": "https://localhost:8080/"
        },
        "id": "WPVt3cgO-fet",
        "outputId": "6cbb69fa-460d-42a2-fc4b-80cd513be6a2"
      },
      "execution_count": 57,
      "outputs": [
        {
          "output_type": "execute_result",
          "data": {
            "text/plain": [
              "<tf.Tensor: shape=(13, 13), dtype=int32, numpy=\n",
              "array([[ 0,  1,  2,  3,  4,  5,  6,  7,  8,  9, 10, 11, 12],\n",
              "       [ 0,  1,  2,  3,  4,  5,  6,  7,  8,  9, 10, 11, 12],\n",
              "       [ 0,  1,  2,  3,  4,  5,  6,  7,  8,  9, 10, 11, 12],\n",
              "       [ 0,  1,  2,  3,  4,  5,  6,  7,  8,  9, 10, 11, 12],\n",
              "       [ 0,  1,  2,  3,  4,  5,  6,  7,  8,  9, 10, 11, 12],\n",
              "       [ 0,  1,  2,  3,  4,  5,  6,  7,  8,  9, 10, 11, 12],\n",
              "       [ 0,  1,  2,  3,  4,  5,  6,  7,  8,  9, 10, 11, 12],\n",
              "       [ 0,  1,  2,  3,  4,  5,  6,  7,  8,  9, 10, 11, 12],\n",
              "       [ 0,  1,  2,  3,  4,  5,  6,  7,  8,  9, 10, 11, 12],\n",
              "       [ 0,  1,  2,  3,  4,  5,  6,  7,  8,  9, 10, 11, 12],\n",
              "       [ 0,  1,  2,  3,  4,  5,  6,  7,  8,  9, 10, 11, 12],\n",
              "       [ 0,  1,  2,  3,  4,  5,  6,  7,  8,  9, 10, 11, 12],\n",
              "       [ 0,  1,  2,  3,  4,  5,  6,  7,  8,  9, 10, 11, 12]], dtype=int32)>"
            ]
          },
          "metadata": {},
          "execution_count": 57
        }
      ]
    },
    {
      "cell_type": "code",
      "source": [
        "x = [1, 2, 3,99, 95, 200]\n",
        "y = [4, 5, 6]\n",
        "X, Y = tf.meshgrid(x, y)\n",
        "X, Y"
      ],
      "metadata": {
        "colab": {
          "base_uri": "https://localhost:8080/"
        },
        "id": "WORx8cguBKOo",
        "outputId": "e4b26fa2-2a42-4291-a03a-5fd833de9309"
      },
      "execution_count": 58,
      "outputs": [
        {
          "output_type": "execute_result",
          "data": {
            "text/plain": [
              "(<tf.Tensor: shape=(3, 6), dtype=int32, numpy=\n",
              " array([[  1,   2,   3,  99,  95, 200],\n",
              "        [  1,   2,   3,  99,  95, 200],\n",
              "        [  1,   2,   3,  99,  95, 200]], dtype=int32)>,\n",
              " <tf.Tensor: shape=(3, 6), dtype=int32, numpy=\n",
              " array([[4, 4, 4, 4, 4, 4],\n",
              "        [5, 5, 5, 5, 5, 5],\n",
              "        [6, 6, 6, 6, 6, 6]], dtype=int32)>)"
            ]
          },
          "metadata": {},
          "execution_count": 58
        }
      ]
    },
    {
      "cell_type": "code",
      "source": [
        "x = [1, 2, 3, 4]\n",
        "y = [1, 2, 3, 4]\n",
        "tf.meshgrid(x, y)"
      ],
      "metadata": {
        "colab": {
          "base_uri": "https://localhost:8080/"
        },
        "id": "4mwMIs8NC_FH",
        "outputId": "bc8cc165-41cb-4b1b-fe1a-f5bcdbe9af98"
      },
      "execution_count": 59,
      "outputs": [
        {
          "output_type": "execute_result",
          "data": {
            "text/plain": [
              "[<tf.Tensor: shape=(4, 4), dtype=int32, numpy=\n",
              " array([[1, 2, 3, 4],\n",
              "        [1, 2, 3, 4],\n",
              "        [1, 2, 3, 4],\n",
              "        [1, 2, 3, 4]], dtype=int32)>,\n",
              " <tf.Tensor: shape=(4, 4), dtype=int32, numpy=\n",
              " array([[1, 1, 1, 1],\n",
              "        [2, 2, 2, 2],\n",
              "        [3, 3, 3, 3],\n",
              "        [4, 4, 4, 4]], dtype=int32)>]"
            ]
          },
          "metadata": {},
          "execution_count": 59
        }
      ]
    },
    {
      "cell_type": "code",
      "source": [
        "xy_grid = tf.meshgrid(tf.range(output_size), tf.range(output_size))\n",
        "xy_grid"
      ],
      "metadata": {
        "colab": {
          "base_uri": "https://localhost:8080/"
        },
        "id": "1xsGg67a-owD",
        "outputId": "ce5cbc21-f488-43b4-8d31-54f9e46a2c01"
      },
      "execution_count": 103,
      "outputs": [
        {
          "output_type": "execute_result",
          "data": {
            "text/plain": [
              "[<tf.Tensor: shape=(13, 13), dtype=int32, numpy=\n",
              " array([[ 0,  1,  2,  3,  4,  5,  6,  7,  8,  9, 10, 11, 12],\n",
              "        [ 0,  1,  2,  3,  4,  5,  6,  7,  8,  9, 10, 11, 12],\n",
              "        [ 0,  1,  2,  3,  4,  5,  6,  7,  8,  9, 10, 11, 12],\n",
              "        [ 0,  1,  2,  3,  4,  5,  6,  7,  8,  9, 10, 11, 12],\n",
              "        [ 0,  1,  2,  3,  4,  5,  6,  7,  8,  9, 10, 11, 12],\n",
              "        [ 0,  1,  2,  3,  4,  5,  6,  7,  8,  9, 10, 11, 12],\n",
              "        [ 0,  1,  2,  3,  4,  5,  6,  7,  8,  9, 10, 11, 12],\n",
              "        [ 0,  1,  2,  3,  4,  5,  6,  7,  8,  9, 10, 11, 12],\n",
              "        [ 0,  1,  2,  3,  4,  5,  6,  7,  8,  9, 10, 11, 12],\n",
              "        [ 0,  1,  2,  3,  4,  5,  6,  7,  8,  9, 10, 11, 12],\n",
              "        [ 0,  1,  2,  3,  4,  5,  6,  7,  8,  9, 10, 11, 12],\n",
              "        [ 0,  1,  2,  3,  4,  5,  6,  7,  8,  9, 10, 11, 12],\n",
              "        [ 0,  1,  2,  3,  4,  5,  6,  7,  8,  9, 10, 11, 12]], dtype=int32)>,\n",
              " <tf.Tensor: shape=(13, 13), dtype=int32, numpy=\n",
              " array([[ 0,  0,  0,  0,  0,  0,  0,  0,  0,  0,  0,  0,  0],\n",
              "        [ 1,  1,  1,  1,  1,  1,  1,  1,  1,  1,  1,  1,  1],\n",
              "        [ 2,  2,  2,  2,  2,  2,  2,  2,  2,  2,  2,  2,  2],\n",
              "        [ 3,  3,  3,  3,  3,  3,  3,  3,  3,  3,  3,  3,  3],\n",
              "        [ 4,  4,  4,  4,  4,  4,  4,  4,  4,  4,  4,  4,  4],\n",
              "        [ 5,  5,  5,  5,  5,  5,  5,  5,  5,  5,  5,  5,  5],\n",
              "        [ 6,  6,  6,  6,  6,  6,  6,  6,  6,  6,  6,  6,  6],\n",
              "        [ 7,  7,  7,  7,  7,  7,  7,  7,  7,  7,  7,  7,  7],\n",
              "        [ 8,  8,  8,  8,  8,  8,  8,  8,  8,  8,  8,  8,  8],\n",
              "        [ 9,  9,  9,  9,  9,  9,  9,  9,  9,  9,  9,  9,  9],\n",
              "        [10, 10, 10, 10, 10, 10, 10, 10, 10, 10, 10, 10, 10],\n",
              "        [11, 11, 11, 11, 11, 11, 11, 11, 11, 11, 11, 11, 11],\n",
              "        [12, 12, 12, 12, 12, 12, 12, 12, 12, 12, 12, 12, 12]], dtype=int32)>]"
            ]
          },
          "metadata": {},
          "execution_count": 103
        }
      ]
    },
    {
      "cell_type": "code",
      "source": [
        "import matplotlib.pyplot as plt\n",
        "plt.plot(xy_grid[0], xy_grid[1], marker='.', linestyle='none')"
      ],
      "metadata": {
        "colab": {
          "base_uri": "https://localhost:8080/",
          "height": 491
        },
        "id": "VqwPSgbxMlnC",
        "outputId": "4a9b57c9-98c0-4b3e-f5c6-9b840ab905ac"
      },
      "execution_count": 104,
      "outputs": [
        {
          "output_type": "execute_result",
          "data": {
            "text/plain": [
              "[<matplotlib.lines.Line2D at 0x7f8433f5fe10>,\n",
              " <matplotlib.lines.Line2D at 0x7f8433f738d0>,\n",
              " <matplotlib.lines.Line2D at 0x7f8433f73a10>,\n",
              " <matplotlib.lines.Line2D at 0x7f8433f73bd0>,\n",
              " <matplotlib.lines.Line2D at 0x7f8433f73d90>,\n",
              " <matplotlib.lines.Line2D at 0x7f8433f73fd0>,\n",
              " <matplotlib.lines.Line2D at 0x7f8433f73e50>,\n",
              " <matplotlib.lines.Line2D at 0x7f8433f7a390>,\n",
              " <matplotlib.lines.Line2D at 0x7f8433f73ad0>,\n",
              " <matplotlib.lines.Line2D at 0x7f8433f73f10>,\n",
              " <matplotlib.lines.Line2D at 0x7f8433f73590>,\n",
              " <matplotlib.lines.Line2D at 0x7f8433f7a9d0>,\n",
              " <matplotlib.lines.Line2D at 0x7f8433f7ab90>]"
            ]
          },
          "metadata": {},
          "execution_count": 104
        },
        {
          "output_type": "display_data",
          "data": {
            "text/plain": [
              "<Figure size 432x288 with 1 Axes>"
            ],
            "image/png": "[encoded data removed]"
          },
          "metadata": {
            "needs_background": "light"
          }
        }
      ]
    },
    {
      "cell_type": "code",
      "source": [
        "tf.reshape(xy_grid, (13, 13, 2))"
      ],
      "metadata": {
        "colab": {
          "base_uri": "https://localhost:8080/"
        },
        "id": "Te76ANllNXw2",
        "outputId": "87f6d7fe-65c5-4f3b-fa8b-26ea7415d249"
      },
      "execution_count": 105,
      "outputs": [
        {
          "output_type": "execute_result",
          "data": {
            "text/plain": [
              "<tf.Tensor: shape=(13, 13, 2), dtype=int32, numpy=\n",
              "array([[[ 0,  1],\n",
              "        [ 2,  3],\n",
              "        [ 4,  5],\n",
              "        [ 6,  7],\n",
              "        [ 8,  9],\n",
              "        [10, 11],\n",
              "        [12,  0],\n",
              "        [ 1,  2],\n",
              "        [ 3,  4],\n",
              "        [ 5,  6],\n",
              "        [ 7,  8],\n",
              "        [ 9, 10],\n",
              "        [11, 12]],\n",
              "\n",
              "       [[ 0,  1],\n",
              "        [ 2,  3],\n",
              "        [ 4,  5],\n",
              "        [ 6,  7],\n",
              "        [ 8,  9],\n",
              "        [10, 11],\n",
              "        [12,  0],\n",
              "        [ 1,  2],\n",
              "        [ 3,  4],\n",
              "        [ 5,  6],\n",
              "        [ 7,  8],\n",
              "        [ 9, 10],\n",
              "        [11, 12]],\n",
              "\n",
              "       [[ 0,  1],\n",
              "        [ 2,  3],\n",
              "        [ 4,  5],\n",
              "        [ 6,  7],\n",
              "        [ 8,  9],\n",
              "        [10, 11],\n",
              "        [12,  0],\n",
              "        [ 1,  2],\n",
              "        [ 3,  4],\n",
              "        [ 5,  6],\n",
              "        [ 7,  8],\n",
              "        [ 9, 10],\n",
              "        [11, 12]],\n",
              "\n",
              "       [[ 0,  1],\n",
              "        [ 2,  3],\n",
              "        [ 4,  5],\n",
              "        [ 6,  7],\n",
              "        [ 8,  9],\n",
              "        [10, 11],\n",
              "        [12,  0],\n",
              "        [ 1,  2],\n",
              "        [ 3,  4],\n",
              "        [ 5,  6],\n",
              "        [ 7,  8],\n",
              "        [ 9, 10],\n",
              "        [11, 12]],\n",
              "\n",
              "       [[ 0,  1],\n",
              "        [ 2,  3],\n",
              "        [ 4,  5],\n",
              "        [ 6,  7],\n",
              "        [ 8,  9],\n",
              "        [10, 11],\n",
              "        [12,  0],\n",
              "        [ 1,  2],\n",
              "        [ 3,  4],\n",
              "        [ 5,  6],\n",
              "        [ 7,  8],\n",
              "        [ 9, 10],\n",
              "        [11, 12]],\n",
              "\n",
              "       [[ 0,  1],\n",
              "        [ 2,  3],\n",
              "        [ 4,  5],\n",
              "        [ 6,  7],\n",
              "        [ 8,  9],\n",
              "        [10, 11],\n",
              "        [12,  0],\n",
              "        [ 1,  2],\n",
              "        [ 3,  4],\n",
              "        [ 5,  6],\n",
              "        [ 7,  8],\n",
              "        [ 9, 10],\n",
              "        [11, 12]],\n",
              "\n",
              "       [[ 0,  1],\n",
              "        [ 2,  3],\n",
              "        [ 4,  5],\n",
              "        [ 6,  7],\n",
              "        [ 8,  9],\n",
              "        [10, 11],\n",
              "        [12,  0],\n",
              "        [ 0,  0],\n",
              "        [ 0,  0],\n",
              "        [ 0,  0],\n",
              "        [ 0,  0],\n",
              "        [ 0,  0],\n",
              "        [ 0,  0]],\n",
              "\n",
              "       [[ 1,  1],\n",
              "        [ 1,  1],\n",
              "        [ 1,  1],\n",
              "        [ 1,  1],\n",
              "        [ 1,  1],\n",
              "        [ 1,  1],\n",
              "        [ 1,  2],\n",
              "        [ 2,  2],\n",
              "        [ 2,  2],\n",
              "        [ 2,  2],\n",
              "        [ 2,  2],\n",
              "        [ 2,  2],\n",
              "        [ 2,  2]],\n",
              "\n",
              "       [[ 3,  3],\n",
              "        [ 3,  3],\n",
              "        [ 3,  3],\n",
              "        [ 3,  3],\n",
              "        [ 3,  3],\n",
              "        [ 3,  3],\n",
              "        [ 3,  4],\n",
              "        [ 4,  4],\n",
              "        [ 4,  4],\n",
              "        [ 4,  4],\n",
              "        [ 4,  4],\n",
              "        [ 4,  4],\n",
              "        [ 4,  4]],\n",
              "\n",
              "       [[ 5,  5],\n",
              "        [ 5,  5],\n",
              "        [ 5,  5],\n",
              "        [ 5,  5],\n",
              "        [ 5,  5],\n",
              "        [ 5,  5],\n",
              "        [ 5,  6],\n",
              "        [ 6,  6],\n",
              "        [ 6,  6],\n",
              "        [ 6,  6],\n",
              "        [ 6,  6],\n",
              "        [ 6,  6],\n",
              "        [ 6,  6]],\n",
              "\n",
              "       [[ 7,  7],\n",
              "        [ 7,  7],\n",
              "        [ 7,  7],\n",
              "        [ 7,  7],\n",
              "        [ 7,  7],\n",
              "        [ 7,  7],\n",
              "        [ 7,  8],\n",
              "        [ 8,  8],\n",
              "        [ 8,  8],\n",
              "        [ 8,  8],\n",
              "        [ 8,  8],\n",
              "        [ 8,  8],\n",
              "        [ 8,  8]],\n",
              "\n",
              "       [[ 9,  9],\n",
              "        [ 9,  9],\n",
              "        [ 9,  9],\n",
              "        [ 9,  9],\n",
              "        [ 9,  9],\n",
              "        [ 9,  9],\n",
              "        [ 9, 10],\n",
              "        [10, 10],\n",
              "        [10, 10],\n",
              "        [10, 10],\n",
              "        [10, 10],\n",
              "        [10, 10],\n",
              "        [10, 10]],\n",
              "\n",
              "       [[11, 11],\n",
              "        [11, 11],\n",
              "        [11, 11],\n",
              "        [11, 11],\n",
              "        [11, 11],\n",
              "        [11, 11],\n",
              "        [11, 12],\n",
              "        [12, 12],\n",
              "        [12, 12],\n",
              "        [12, 12],\n",
              "        [12, 12],\n",
              "        [12, 12],\n",
              "        [12, 12]]], dtype=int32)>"
            ]
          },
          "metadata": {},
          "execution_count": 105
        }
      ]
    },
    {
      "cell_type": "code",
      "source": [
        "tf.stack(xy_grid, axis=-1)"
      ],
      "metadata": {
        "colab": {
          "base_uri": "https://localhost:8080/"
        },
        "id": "cGDQOuyBM8PS",
        "outputId": "21153f2f-7a31-405a-aedf-6fc565b9ce7b"
      },
      "execution_count": 106,
      "outputs": [
        {
          "output_type": "execute_result",
          "data": {
            "text/plain": [
              "<tf.Tensor: shape=(13, 13, 2), dtype=int32, numpy=\n",
              "array([[[ 0,  0],\n",
              "        [ 1,  0],\n",
              "        [ 2,  0],\n",
              "        [ 3,  0],\n",
              "        [ 4,  0],\n",
              "        [ 5,  0],\n",
              "        [ 6,  0],\n",
              "        [ 7,  0],\n",
              "        [ 8,  0],\n",
              "        [ 9,  0],\n",
              "        [10,  0],\n",
              "        [11,  0],\n",
              "        [12,  0]],\n",
              "\n",
              "       [[ 0,  1],\n",
              "        [ 1,  1],\n",
              "        [ 2,  1],\n",
              "        [ 3,  1],\n",
              "        [ 4,  1],\n",
              "        [ 5,  1],\n",
              "        [ 6,  1],\n",
              "        [ 7,  1],\n",
              "        [ 8,  1],\n",
              "        [ 9,  1],\n",
              "        [10,  1],\n",
              "        [11,  1],\n",
              "        [12,  1]],\n",
              "\n",
              "       [[ 0,  2],\n",
              "        [ 1,  2],\n",
              "        [ 2,  2],\n",
              "        [ 3,  2],\n",
              "        [ 4,  2],\n",
              "        [ 5,  2],\n",
              "        [ 6,  2],\n",
              "        [ 7,  2],\n",
              "        [ 8,  2],\n",
              "        [ 9,  2],\n",
              "        [10,  2],\n",
              "        [11,  2],\n",
              "        [12,  2]],\n",
              "\n",
              "       [[ 0,  3],\n",
              "        [ 1,  3],\n",
              "        [ 2,  3],\n",
              "        [ 3,  3],\n",
              "        [ 4,  3],\n",
              "        [ 5,  3],\n",
              "        [ 6,  3],\n",
              "        [ 7,  3],\n",
              "        [ 8,  3],\n",
              "        [ 9,  3],\n",
              "        [10,  3],\n",
              "        [11,  3],\n",
              "        [12,  3]],\n",
              "\n",
              "       [[ 0,  4],\n",
              "        [ 1,  4],\n",
              "        [ 2,  4],\n",
              "        [ 3,  4],\n",
              "        [ 4,  4],\n",
              "        [ 5,  4],\n",
              "        [ 6,  4],\n",
              "        [ 7,  4],\n",
              "        [ 8,  4],\n",
              "        [ 9,  4],\n",
              "        [10,  4],\n",
              "        [11,  4],\n",
              "        [12,  4]],\n",
              "\n",
              "       [[ 0,  5],\n",
              "        [ 1,  5],\n",
              "        [ 2,  5],\n",
              "        [ 3,  5],\n",
              "        [ 4,  5],\n",
              "        [ 5,  5],\n",
              "        [ 6,  5],\n",
              "        [ 7,  5],\n",
              "        [ 8,  5],\n",
              "        [ 9,  5],\n",
              "        [10,  5],\n",
              "        [11,  5],\n",
              "        [12,  5]],\n",
              "\n",
              "       [[ 0,  6],\n",
              "        [ 1,  6],\n",
              "        [ 2,  6],\n",
              "        [ 3,  6],\n",
              "        [ 4,  6],\n",
              "        [ 5,  6],\n",
              "        [ 6,  6],\n",
              "        [ 7,  6],\n",
              "        [ 8,  6],\n",
              "        [ 9,  6],\n",
              "        [10,  6],\n",
              "        [11,  6],\n",
              "        [12,  6]],\n",
              "\n",
              "       [[ 0,  7],\n",
              "        [ 1,  7],\n",
              "        [ 2,  7],\n",
              "        [ 3,  7],\n",
              "        [ 4,  7],\n",
              "        [ 5,  7],\n",
              "        [ 6,  7],\n",
              "        [ 7,  7],\n",
              "        [ 8,  7],\n",
              "        [ 9,  7],\n",
              "        [10,  7],\n",
              "        [11,  7],\n",
              "        [12,  7]],\n",
              "\n",
              "       [[ 0,  8],\n",
              "        [ 1,  8],\n",
              "        [ 2,  8],\n",
              "        [ 3,  8],\n",
              "        [ 4,  8],\n",
              "        [ 5,  8],\n",
              "        [ 6,  8],\n",
              "        [ 7,  8],\n",
              "        [ 8,  8],\n",
              "        [ 9,  8],\n",
              "        [10,  8],\n",
              "        [11,  8],\n",
              "        [12,  8]],\n",
              "\n",
              "       [[ 0,  9],\n",
              "        [ 1,  9],\n",
              "        [ 2,  9],\n",
              "        [ 3,  9],\n",
              "        [ 4,  9],\n",
              "        [ 5,  9],\n",
              "        [ 6,  9],\n",
              "        [ 7,  9],\n",
              "        [ 8,  9],\n",
              "        [ 9,  9],\n",
              "        [10,  9],\n",
              "        [11,  9],\n",
              "        [12,  9]],\n",
              "\n",
              "       [[ 0, 10],\n",
              "        [ 1, 10],\n",
              "        [ 2, 10],\n",
              "        [ 3, 10],\n",
              "        [ 4, 10],\n",
              "        [ 5, 10],\n",
              "        [ 6, 10],\n",
              "        [ 7, 10],\n",
              "        [ 8, 10],\n",
              "        [ 9, 10],\n",
              "        [10, 10],\n",
              "        [11, 10],\n",
              "        [12, 10]],\n",
              "\n",
              "       [[ 0, 11],\n",
              "        [ 1, 11],\n",
              "        [ 2, 11],\n",
              "        [ 3, 11],\n",
              "        [ 4, 11],\n",
              "        [ 5, 11],\n",
              "        [ 6, 11],\n",
              "        [ 7, 11],\n",
              "        [ 8, 11],\n",
              "        [ 9, 11],\n",
              "        [10, 11],\n",
              "        [11, 11],\n",
              "        [12, 11]],\n",
              "\n",
              "       [[ 0, 12],\n",
              "        [ 1, 12],\n",
              "        [ 2, 12],\n",
              "        [ 3, 12],\n",
              "        [ 4, 12],\n",
              "        [ 5, 12],\n",
              "        [ 6, 12],\n",
              "        [ 7, 12],\n",
              "        [ 8, 12],\n",
              "        [ 9, 12],\n",
              "        [10, 12],\n",
              "        [11, 12],\n",
              "        [12, 12]]], dtype=int32)>"
            ]
          },
          "metadata": {},
          "execution_count": 106
        }
      ]
    },
    {
      "cell_type": "code",
      "source": [
        "x = tf.constant([1, 4])\n",
        "y = tf.constant([2, 5])\n",
        "z = tf.constant([3, 6])\n",
        "tf.stack([x, y, z], axis=1)"
      ],
      "metadata": {
        "colab": {
          "base_uri": "https://localhost:8080/"
        },
        "id": "tskece2CN0eN",
        "outputId": "ea1d3de2-f78c-4f98-8852-2bb38c392441"
      },
      "execution_count": 107,
      "outputs": [
        {
          "output_type": "execute_result",
          "data": {
            "text/plain": [
              "<tf.Tensor: shape=(2, 3), dtype=int32, numpy=\n",
              "array([[1, 2, 3],\n",
              "       [4, 5, 6]], dtype=int32)>"
            ]
          },
          "metadata": {},
          "execution_count": 107
        }
      ]
    },
    {
      "cell_type": "code",
      "source": [
        "tf.stack(xy_grid, axis=-1).shape"
      ],
      "metadata": {
        "colab": {
          "base_uri": "https://localhost:8080/"
        },
        "id": "91--8nfuPtHj",
        "outputId": "39d507ef-fdba-4481-fb3d-78729a00cfcd"
      },
      "execution_count": 108,
      "outputs": [
        {
          "output_type": "execute_result",
          "data": {
            "text/plain": [
              "TensorShape([13, 13, 2])"
            ]
          },
          "metadata": {},
          "execution_count": 108
        }
      ]
    },
    {
      "cell_type": "code",
      "source": [
        "xy_grid = tf.expand_dims(tf.stack(xy_grid, axis=-1), axis=2)  # [gx, gy, 1, 2]\n",
        "xy_grid"
      ],
      "metadata": {
        "colab": {
          "base_uri": "https://localhost:8080/"
        },
        "id": "7yHQKNf7B3OD",
        "outputId": "4b06b2ad-d294-4a6c-ca2b-a9f49145fe9b"
      },
      "execution_count": 109,
      "outputs": [
        {
          "output_type": "execute_result",
          "data": {
            "text/plain": [
              "<tf.Tensor: shape=(13, 13, 1, 2), dtype=int32, numpy=\n",
              "array([[[[ 0,  0]],\n",
              "\n",
              "        [[ 1,  0]],\n",
              "\n",
              "        [[ 2,  0]],\n",
              "\n",
              "        [[ 3,  0]],\n",
              "\n",
              "        [[ 4,  0]],\n",
              "\n",
              "        [[ 5,  0]],\n",
              "\n",
              "        [[ 6,  0]],\n",
              "\n",
              "        [[ 7,  0]],\n",
              "\n",
              "        [[ 8,  0]],\n",
              "\n",
              "        [[ 9,  0]],\n",
              "\n",
              "        [[10,  0]],\n",
              "\n",
              "        [[11,  0]],\n",
              "\n",
              "        [[12,  0]]],\n",
              "\n",
              "\n",
              "       [[[ 0,  1]],\n",
              "\n",
              "        [[ 1,  1]],\n",
              "\n",
              "        [[ 2,  1]],\n",
              "\n",
              "        [[ 3,  1]],\n",
              "\n",
              "        [[ 4,  1]],\n",
              "\n",
              "        [[ 5,  1]],\n",
              "\n",
              "        [[ 6,  1]],\n",
              "\n",
              "        [[ 7,  1]],\n",
              "\n",
              "        [[ 8,  1]],\n",
              "\n",
              "        [[ 9,  1]],\n",
              "\n",
              "        [[10,  1]],\n",
              "\n",
              "        [[11,  1]],\n",
              "\n",
              "        [[12,  1]]],\n",
              "\n",
              "\n",
              "       [[[ 0,  2]],\n",
              "\n",
              "        [[ 1,  2]],\n",
              "\n",
              "        [[ 2,  2]],\n",
              "\n",
              "        [[ 3,  2]],\n",
              "\n",
              "        [[ 4,  2]],\n",
              "\n",
              "        [[ 5,  2]],\n",
              "\n",
              "        [[ 6,  2]],\n",
              "\n",
              "        [[ 7,  2]],\n",
              "\n",
              "        [[ 8,  2]],\n",
              "\n",
              "        [[ 9,  2]],\n",
              "\n",
              "        [[10,  2]],\n",
              "\n",
              "        [[11,  2]],\n",
              "\n",
              "        [[12,  2]]],\n",
              "\n",
              "\n",
              "       [[[ 0,  3]],\n",
              "\n",
              "        [[ 1,  3]],\n",
              "\n",
              "        [[ 2,  3]],\n",
              "\n",
              "        [[ 3,  3]],\n",
              "\n",
              "        [[ 4,  3]],\n",
              "\n",
              "        [[ 5,  3]],\n",
              "\n",
              "        [[ 6,  3]],\n",
              "\n",
              "        [[ 7,  3]],\n",
              "\n",
              "        [[ 8,  3]],\n",
              "\n",
              "        [[ 9,  3]],\n",
              "\n",
              "        [[10,  3]],\n",
              "\n",
              "        [[11,  3]],\n",
              "\n",
              "        [[12,  3]]],\n",
              "\n",
              "\n",
              "       [[[ 0,  4]],\n",
              "\n",
              "        [[ 1,  4]],\n",
              "\n",
              "        [[ 2,  4]],\n",
              "\n",
              "        [[ 3,  4]],\n",
              "\n",
              "        [[ 4,  4]],\n",
              "\n",
              "        [[ 5,  4]],\n",
              "\n",
              "        [[ 6,  4]],\n",
              "\n",
              "        [[ 7,  4]],\n",
              "\n",
              "        [[ 8,  4]],\n",
              "\n",
              "        [[ 9,  4]],\n",
              "\n",
              "        [[10,  4]],\n",
              "\n",
              "        [[11,  4]],\n",
              "\n",
              "        [[12,  4]]],\n",
              "\n",
              "\n",
              "       [[[ 0,  5]],\n",
              "\n",
              "        [[ 1,  5]],\n",
              "\n",
              "        [[ 2,  5]],\n",
              "\n",
              "        [[ 3,  5]],\n",
              "\n",
              "        [[ 4,  5]],\n",
              "\n",
              "        [[ 5,  5]],\n",
              "\n",
              "        [[ 6,  5]],\n",
              "\n",
              "        [[ 7,  5]],\n",
              "\n",
              "        [[ 8,  5]],\n",
              "\n",
              "        [[ 9,  5]],\n",
              "\n",
              "        [[10,  5]],\n",
              "\n",
              "        [[11,  5]],\n",
              "\n",
              "        [[12,  5]]],\n",
              "\n",
              "\n",
              "       [[[ 0,  6]],\n",
              "\n",
              "        [[ 1,  6]],\n",
              "\n",
              "        [[ 2,  6]],\n",
              "\n",
              "        [[ 3,  6]],\n",
              "\n",
              "        [[ 4,  6]],\n",
              "\n",
              "        [[ 5,  6]],\n",
              "\n",
              "        [[ 6,  6]],\n",
              "\n",
              "        [[ 7,  6]],\n",
              "\n",
              "        [[ 8,  6]],\n",
              "\n",
              "        [[ 9,  6]],\n",
              "\n",
              "        [[10,  6]],\n",
              "\n",
              "        [[11,  6]],\n",
              "\n",
              "        [[12,  6]]],\n",
              "\n",
              "\n",
              "       [[[ 0,  7]],\n",
              "\n",
              "        [[ 1,  7]],\n",
              "\n",
              "        [[ 2,  7]],\n",
              "\n",
              "        [[ 3,  7]],\n",
              "\n",
              "        [[ 4,  7]],\n",
              "\n",
              "        [[ 5,  7]],\n",
              "\n",
              "        [[ 6,  7]],\n",
              "\n",
              "        [[ 7,  7]],\n",
              "\n",
              "        [[ 8,  7]],\n",
              "\n",
              "        [[ 9,  7]],\n",
              "\n",
              "        [[10,  7]],\n",
              "\n",
              "        [[11,  7]],\n",
              "\n",
              "        [[12,  7]]],\n",
              "\n",
              "\n",
              "       [[[ 0,  8]],\n",
              "\n",
              "        [[ 1,  8]],\n",
              "\n",
              "        [[ 2,  8]],\n",
              "\n",
              "        [[ 3,  8]],\n",
              "\n",
              "        [[ 4,  8]],\n",
              "\n",
              "        [[ 5,  8]],\n",
              "\n",
              "        [[ 6,  8]],\n",
              "\n",
              "        [[ 7,  8]],\n",
              "\n",
              "        [[ 8,  8]],\n",
              "\n",
              "        [[ 9,  8]],\n",
              "\n",
              "        [[10,  8]],\n",
              "\n",
              "        [[11,  8]],\n",
              "\n",
              "        [[12,  8]]],\n",
              "\n",
              "\n",
              "       [[[ 0,  9]],\n",
              "\n",
              "        [[ 1,  9]],\n",
              "\n",
              "        [[ 2,  9]],\n",
              "\n",
              "        [[ 3,  9]],\n",
              "\n",
              "        [[ 4,  9]],\n",
              "\n",
              "        [[ 5,  9]],\n",
              "\n",
              "        [[ 6,  9]],\n",
              "\n",
              "        [[ 7,  9]],\n",
              "\n",
              "        [[ 8,  9]],\n",
              "\n",
              "        [[ 9,  9]],\n",
              "\n",
              "        [[10,  9]],\n",
              "\n",
              "        [[11,  9]],\n",
              "\n",
              "        [[12,  9]]],\n",
              "\n",
              "\n",
              "       [[[ 0, 10]],\n",
              "\n",
              "        [[ 1, 10]],\n",
              "\n",
              "        [[ 2, 10]],\n",
              "\n",
              "        [[ 3, 10]],\n",
              "\n",
              "        [[ 4, 10]],\n",
              "\n",
              "        [[ 5, 10]],\n",
              "\n",
              "        [[ 6, 10]],\n",
              "\n",
              "        [[ 7, 10]],\n",
              "\n",
              "        [[ 8, 10]],\n",
              "\n",
              "        [[ 9, 10]],\n",
              "\n",
              "        [[10, 10]],\n",
              "\n",
              "        [[11, 10]],\n",
              "\n",
              "        [[12, 10]]],\n",
              "\n",
              "\n",
              "       [[[ 0, 11]],\n",
              "\n",
              "        [[ 1, 11]],\n",
              "\n",
              "        [[ 2, 11]],\n",
              "\n",
              "        [[ 3, 11]],\n",
              "\n",
              "        [[ 4, 11]],\n",
              "\n",
              "        [[ 5, 11]],\n",
              "\n",
              "        [[ 6, 11]],\n",
              "\n",
              "        [[ 7, 11]],\n",
              "\n",
              "        [[ 8, 11]],\n",
              "\n",
              "        [[ 9, 11]],\n",
              "\n",
              "        [[10, 11]],\n",
              "\n",
              "        [[11, 11]],\n",
              "\n",
              "        [[12, 11]]],\n",
              "\n",
              "\n",
              "       [[[ 0, 12]],\n",
              "\n",
              "        [[ 1, 12]],\n",
              "\n",
              "        [[ 2, 12]],\n",
              "\n",
              "        [[ 3, 12]],\n",
              "\n",
              "        [[ 4, 12]],\n",
              "\n",
              "        [[ 5, 12]],\n",
              "\n",
              "        [[ 6, 12]],\n",
              "\n",
              "        [[ 7, 12]],\n",
              "\n",
              "        [[ 8, 12]],\n",
              "\n",
              "        [[ 9, 12]],\n",
              "\n",
              "        [[10, 12]],\n",
              "\n",
              "        [[11, 12]],\n",
              "\n",
              "        [[12, 12]]]], dtype=int32)>"
            ]
          },
          "metadata": {},
          "execution_count": 109
        }
      ]
    },
    {
      "cell_type": "code",
      "source": [
        "tf.stack(xy_grid, axis=-1)"
      ],
      "metadata": {
        "colab": {
          "base_uri": "https://localhost:8080/"
        },
        "id": "CNLsalP5M7Ew",
        "outputId": "a13ae514-7bb2-4b07-8a4c-9b233902aa64"
      },
      "execution_count": 110,
      "outputs": [
        {
          "output_type": "execute_result",
          "data": {
            "text/plain": [
              "<tf.Tensor: shape=(13, 1, 2, 13), dtype=int32, numpy=\n",
              "array([[[[ 0,  0,  0,  0,  0,  0,  0,  0,  0,  0,  0,  0,  0],\n",
              "         [ 0,  1,  2,  3,  4,  5,  6,  7,  8,  9, 10, 11, 12]]],\n",
              "\n",
              "\n",
              "       [[[ 1,  1,  1,  1,  1,  1,  1,  1,  1,  1,  1,  1,  1],\n",
              "         [ 0,  1,  2,  3,  4,  5,  6,  7,  8,  9, 10, 11, 12]]],\n",
              "\n",
              "\n",
              "       [[[ 2,  2,  2,  2,  2,  2,  2,  2,  2,  2,  2,  2,  2],\n",
              "         [ 0,  1,  2,  3,  4,  5,  6,  7,  8,  9, 10, 11, 12]]],\n",
              "\n",
              "\n",
              "       [[[ 3,  3,  3,  3,  3,  3,  3,  3,  3,  3,  3,  3,  3],\n",
              "         [ 0,  1,  2,  3,  4,  5,  6,  7,  8,  9, 10, 11, 12]]],\n",
              "\n",
              "\n",
              "       [[[ 4,  4,  4,  4,  4,  4,  4,  4,  4,  4,  4,  4,  4],\n",
              "         [ 0,  1,  2,  3,  4,  5,  6,  7,  8,  9, 10, 11, 12]]],\n",
              "\n",
              "\n",
              "       [[[ 5,  5,  5,  5,  5,  5,  5,  5,  5,  5,  5,  5,  5],\n",
              "         [ 0,  1,  2,  3,  4,  5,  6,  7,  8,  9, 10, 11, 12]]],\n",
              "\n",
              "\n",
              "       [[[ 6,  6,  6,  6,  6,  6,  6,  6,  6,  6,  6,  6,  6],\n",
              "         [ 0,  1,  2,  3,  4,  5,  6,  7,  8,  9, 10, 11, 12]]],\n",
              "\n",
              "\n",
              "       [[[ 7,  7,  7,  7,  7,  7,  7,  7,  7,  7,  7,  7,  7],\n",
              "         [ 0,  1,  2,  3,  4,  5,  6,  7,  8,  9, 10, 11, 12]]],\n",
              "\n",
              "\n",
              "       [[[ 8,  8,  8,  8,  8,  8,  8,  8,  8,  8,  8,  8,  8],\n",
              "         [ 0,  1,  2,  3,  4,  5,  6,  7,  8,  9, 10, 11, 12]]],\n",
              "\n",
              "\n",
              "       [[[ 9,  9,  9,  9,  9,  9,  9,  9,  9,  9,  9,  9,  9],\n",
              "         [ 0,  1,  2,  3,  4,  5,  6,  7,  8,  9, 10, 11, 12]]],\n",
              "\n",
              "\n",
              "       [[[10, 10, 10, 10, 10, 10, 10, 10, 10, 10, 10, 10, 10],\n",
              "         [ 0,  1,  2,  3,  4,  5,  6,  7,  8,  9, 10, 11, 12]]],\n",
              "\n",
              "\n",
              "       [[[11, 11, 11, 11, 11, 11, 11, 11, 11, 11, 11, 11, 11],\n",
              "         [ 0,  1,  2,  3,  4,  5,  6,  7,  8,  9, 10, 11, 12]]],\n",
              "\n",
              "\n",
              "       [[[12, 12, 12, 12, 12, 12, 12, 12, 12, 12, 12, 12, 12],\n",
              "         [ 0,  1,  2,  3,  4,  5,  6,  7,  8,  9, 10, 11, 12]]]],\n",
              "      dtype=int32)>"
            ]
          },
          "metadata": {},
          "execution_count": 110
        }
      ]
    },
    {
      "cell_type": "code",
      "source": [
        "tf.expand_dims(xy_grid, axis=0).shape"
      ],
      "metadata": {
        "colab": {
          "base_uri": "https://localhost:8080/"
        },
        "id": "ZMB6eJhlYxzd",
        "outputId": "468e9db0-3cee-40c0-a089-25a441998026"
      },
      "execution_count": 111,
      "outputs": [
        {
          "output_type": "execute_result",
          "data": {
            "text/plain": [
              "TensorShape([1, 13, 13, 1, 2])"
            ]
          },
          "metadata": {},
          "execution_count": 111
        }
      ]
    },
    {
      "cell_type": "code",
      "source": [
        "# tf.shape(tf.reshape(tf.expand_dims(xy_grid, axis=0), [32, 13, 13, 3, 2]))"
      ],
      "metadata": {
        "id": "ML7wlGfaaw9g"
      },
      "execution_count": null,
      "outputs": []
    },
    {
      "cell_type": "code",
      "source": [
        "xy_grid = tf.tile(tf.expand_dims(xy_grid, axis=0), [32, 1, 1, 3, 1])\n",
        "xy_grid.shape"
      ],
      "metadata": {
        "colab": {
          "base_uri": "https://localhost:8080/"
        },
        "id": "fQ7iUl50CA01",
        "outputId": "b2bab804-4774-4152-96cb-f67b103b6fc2"
      },
      "execution_count": 113,
      "outputs": [
        {
          "output_type": "execute_result",
          "data": {
            "text/plain": [
              "TensorShape([32, 13, 13, 3, 2])"
            ]
          },
          "metadata": {},
          "execution_count": 113
        }
      ]
    },
    {
      "cell_type": "code",
      "source": [
        "xy_grid = tf.cast(xy_grid, tf.float32)\n",
        "xy_grid"
      ],
      "metadata": {
        "id": "2vUKsV_bCPkx"
      },
      "execution_count": null,
      "outputs": []
    },
    {
      "cell_type": "code",
      "source": [
        "xy_grid = tf.concat([x[:, :, tf.newaxis], y[:, :, tf.newaxis]], axis=-1)\n",
        "xy_grid"
      ],
      "metadata": {
        "id": "iv-zoP9PCQ5J"
      },
      "execution_count": null,
      "outputs": []
    },
    {
      "cell_type": "code",
      "source": [
        ""
      ],
      "metadata": {
        "id": "rCypwIYYei9R"
      },
      "execution_count": null,
      "outputs": []
    }
  ]
}