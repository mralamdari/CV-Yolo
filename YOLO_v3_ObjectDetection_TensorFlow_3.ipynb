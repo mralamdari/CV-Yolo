{
  "nbformat": 4,
  "nbformat_minor": 0,
  "metadata": {
    "colab": {
      "name": "YOLO_v3_ObjectDetection_TensorFlow_3.ipynb",
      "provenance": [],
      "collapsed_sections": [],
      "mount_file_id": "1gCcO2AQlQ7yPjhManytzBubME16kuSDj",
      "authorship_tag": "ABX9TyMitXLzWekrx400+RSx3id4",
      "include_colab_link": true
    },
    "kernelspec": {
      "name": "python3",
      "display_name": "Python 3"
    },
    "language_info": {
      "name": "python"
    }
  },
  "cells": [
    {
      "cell_type": "markdown",
      "metadata": {
        "id": "view-in-github",
        "colab_type": "text"
      },
      "source": [
        "<a href=\"https://colab.research.google.com/github/mralamdari/CV-Yolo/blob/main/YOLO_v3_ObjectDetection_TensorFlow_3.ipynb\" target=\"_parent\"><img src=\"https://colab.research.google.com/assets/colab-badge.svg\" alt=\"Open In Colab\"/></a>"
      ]
    },
    {
      "cell_type": "code",
      "source": [
        "import numpy as np\n",
        "\n",
        "!wget -P model_data https://pjreddie.com/media/files/yolov3.weights"
      ],
      "metadata": {
        "colab": {
          "base_uri": "https://localhost:8080/"
        },
        "id": "T8HZWSI3gkwx",
        "outputId": "ba311f59-6675-4a9e-c9ef-551457f6728c"
      },
      "execution_count": 7,
      "outputs": [
        {
          "output_type": "execute_result",
          "data": {
            "text/plain": [
              "['--2022-08-13 04:50:47--  https://pjreddie.com/media/files/yolov3.weights',\n",
              " 'Resolving pjreddie.com (pjreddie.com)... 128.208.4.108',\n",
              " 'Connecting to pjreddie.com (pjreddie.com)|128.208.4.108|:443... connected.',\n",
              " 'HTTP request sent, awaiting response... 200 OK',\n",
              " 'Length: 248007048 (237M) [application/octet-stream]',\n",
              " 'Saving to: ‘model_data/yolov3.weights’',\n",
              " '',\n",
              " '',\n",
              " 'yolov3.weights        0%[                    ]       0  --.-KB/s               ',\n",
              " 'yolov3.weights        0%[                    ] 151.70K   705KB/s               ',\n",
              " 'yolov3.weights        0%[                    ]   1.07M  2.48MB/s               ',\n",
              " 'yolov3.weights        3%[                    ]   7.24M  11.2MB/s               ',\n",
              " 'yolov3.weights        6%[>                   ]  15.82M  18.2MB/s               ',\n",
              " 'yolov3.weights       10%[=>                  ]  24.52M  22.6MB/s               ',\n",
              " 'yolov3.weights       14%[=>                  ]  33.41M  25.6MB/s               ',\n",
              " 'yolov3.weights       17%[==>                 ]  42.15M  27.6MB/s               ',\n",
              " 'yolov3.weights       21%[===>                ]  50.85M  29.2MB/s               ',\n",
              " 'yolov3.weights       25%[====>               ]  59.66M  30.4MB/s               ',\n",
              " 'yolov3.weights       28%[====>               ]  68.52M  31.4MB/s               ',\n",
              " 'yolov3.weights       32%[=====>              ]  77.05M  32.1MB/s               ',\n",
              " 'yolov3.weights       36%[======>             ]  85.76M  32.8MB/s               ',\n",
              " 'yolov3.weights       39%[======>             ]  94.32M  33.3MB/s               ',\n",
              " 'yolov3.weights       43%[=======>            ] 102.85M  33.7MB/s    eta 4s     ',\n",
              " 'yolov3.weights       47%[========>           ] 111.46M  34.1MB/s    eta 4s     ',\n",
              " 'yolov3.weights       50%[=========>          ] 120.24M  38.2MB/s    eta 4s     ',\n",
              " 'yolov3.weights       54%[=========>          ] 128.99M  39.5MB/s    eta 4s     ',\n",
              " 'yolov3.weights       58%[==========>         ] 137.71M  39.5MB/s    eta 4s     ',\n",
              " 'yolov3.weights       61%[===========>        ] 146.51M  39.6MB/s    eta 3s     ',\n",
              " 'yolov3.weights       65%[============>       ] 155.19M  39.4MB/s    eta 3s     ',\n",
              " 'yolov3.weights       69%[============>       ] 163.82M  39.8MB/s    eta 3s     ',\n",
              " 'yolov3.weights       73%[=============>      ] 172.69M  39.9MB/s    eta 3s     ',\n",
              " 'yolov3.weights       76%[==============>     ] 181.24M  39.7MB/s    eta 3s     ',\n",
              " 'yolov3.weights       80%[===============>    ] 190.01M  39.8MB/s    eta 1s     ',\n",
              " 'yolov3.weights       83%[===============>    ] 198.57M  39.7MB/s    eta 1s     ',\n",
              " 'yolov3.weights       87%[================>   ] 207.26M  39.6MB/s    eta 1s     ',\n",
              " 'yolov3.weights       91%[=================>  ] 216.08M  39.5MB/s    eta 1s     ',\n",
              " 'yolov3.weights       95%[==================> ] 224.82M  39.9MB/s    eta 1s     ',\n",
              " 'yolov3.weights       98%[==================> ] 233.65M  39.9MB/s    eta 0s     ',\n",
              " 'yolov3.weights      100%[===================>] 236.52M  40.2MB/s    in 6.4s    ',\n",
              " '',\n",
              " '2022-08-13 04:50:54 (37.2 MB/s) - ‘model_data/yolov3.weights’ saved [248007048/248007048]',\n",
              " '']"
            ]
          },
          "metadata": {},
          "execution_count": 7
        }
      ]
    },
    {
      "cell_type": "code",
      "source": [
        "with open('model_data/yolov3.weights', 'rb') as wf:\n",
        "    major, minor, revision, seen, _ = np.fromfile(wf, dtype=np.int32, count=5)\n",
        "\n",
        "    conv_weights = np.fromfile(wf, dtype=np.float32, count=2)\n"
      ],
      "metadata": {
        "id": "z8oGUcMRe_jT"
      },
      "execution_count": 8,
      "outputs": []
    },
    {
      "cell_type": "code",
      "source": [
        ""
      ],
      "metadata": {
        "id": "WRTE5Si9i8Bp"
      },
      "execution_count": null,
      "outputs": []
    }
  ]
}