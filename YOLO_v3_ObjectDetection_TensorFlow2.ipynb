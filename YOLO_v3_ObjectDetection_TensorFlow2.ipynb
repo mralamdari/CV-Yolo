{
  "nbformat": 4,
  "nbformat_minor": 0,
  "metadata": {
    "colab": {
      "name": "YOLO_v3_ObjectDetection_TensorFlow2.ipynb",
      "provenance": [],
      "collapsed_sections": [],
      "authorship_tag": "ABX9TyMdd42ivUfiKvIko67jpCb8",
      "include_colab_link": true
    },
    "kernelspec": {
      "name": "python3",
      "display_name": "Python 3"
    },
    "language_info": {
      "name": "python"
    }
  },
  "cells": [
    {
      "cell_type": "markdown",
      "metadata": {
        "id": "view-in-github",
        "colab_type": "text"
      },
      "source": [
        "<a href=\"https://colab.research.google.com/github/mralamdari/CV-Yolo/blob/main/YOLO_v3_ObjectDetection_TensorFlow2.ipynb\" target=\"_parent\"><img src=\"https://colab.research.google.com/assets/colab-badge.svg\" alt=\"Open In Colab\"/></a>"
      ]
    },
    {
      "cell_type": "code",
      "execution_count": null,
      "metadata": {
        "id": "k1hc6a129ByF"
      },
      "outputs": [],
      "source": [
        "import os\n",
        "import cv2\n",
        "import PIL\n",
        "import struct # used to convert native Python data types such as strings and numbers into a string of bytes and vice versa\n",
        "import colorsys\n",
        "import scipy.io\n",
        "import scipy.misc\n",
        "import numpy as np\n",
        "import pandas as pd\n",
        "import tensorflow as tf\n",
        "import matplotlib.pyplot as plt\n",
        "from google.colab.patches import cv2_imshow\n",
        "from tensorflow.python.saved_model import tag_constants"
      ]
    },
    {
      "cell_type": "code",
      "source": [
        "os.environ['KAGGLE_CONFIG_DIR'] = '/content/drive/MyDrive'\n",
        "!kaggle datasets download -d aruchomu/data-for-yolo-v3-kernel\n",
        "!unzip \\*.zip && rm *.zip"
      ],
      "metadata": {
        "id": "IZwp9Ds59S6z"
      },
      "execution_count": null,
      "outputs": []
    },
    {
      "cell_type": "code",
      "source": [
        "!wget -P model_data https://pjreddie.com/media/files/yolov3.weights\n",
        "\n",
        "!wget -P model_data https://pjreddie.com/media/files/yolov3-tiny.weights\n",
        "\n",
        "!wget -P model_data https://github.com/AlexeyAB/darknet/releases/download/darknet_yolo_v3_optimal/yolov4.weights\n",
        "\n",
        "!wget -P model_data https://github.com/AlexeyAB/darknet/releases/download/darknet_yolo_v4_pre/yolov4-tiny.weights"
      ],
      "metadata": {
        "id": "DTsUrw1n9XpN"
      },
      "execution_count": null,
      "outputs": []
    },
    {
      "cell_type": "markdown",
      "source": [
        "# Load The Yolo Model\n",
        "\n",
        "choose between yolo frameworks between; tf and trt\n",
        "\n",
        "\n",
        "and yolo types between;\n",
        "yolov3\n",
        "yolov3-tiny\n",
        "yolov4\n",
        "yolov4-tiny\n",
        "\n",
        "\n",
        " and decide if you need custom weights "
      ],
      "metadata": {
        "id": "yG0zuJeF9vq3"
      }
    },
    {
      "cell_type": "code",
      "source": [
        "def Load_Yolo_model(yolo_framework, yolo_type, yolo_costom_weights, input_size, input_classes):\n",
        "    \n",
        "    physical_devices = tf.config.list_physical_devices('GPU')\n",
        "    try:\n",
        "        tf.config.experimental.set_memory_growth(physical_devices[0], True)\n",
        "    except:\n",
        "        pass\n",
        "\n",
        "    if yolo_framework == \"tf\": # TensorFlow detection framework\n",
        "        \n",
        "        if yolo_costom_weights:\n",
        "            checkpoint = f\"./checkpoints/{yolo_type}_custom\"\n",
        "            print(f\"Loading custom weights from: {checkpoint}\")\n",
        "            yolo = Create_Yolo(input_size=input_size, classes=input_classes)\n",
        "            yolo.load_weights(checkpoint)\n",
        "        else:\n",
        "            Darknet_weights = f'model_data/{yolo_type}.weights'\n",
        "            print(f\"Loading Darknet_weights from: {Darknet_weights}\")\n",
        "            yolo = Create_Yolo(input_size=input_size, classes=input_classes)\n",
        "            load_yolo_weights(yolo, Darknet_weights) # use Darknet weights\n",
        "        \n",
        "    elif yolo_framework == \"trt\": # TensorRT detection framework\n",
        "        saved_model_loaded = tf.saved_model.load(yolo_costom_weights, tags=[tag_constants.SERVING])\n",
        "        signature_keys = list(saved_model_loaded.signatures.keys())\n",
        "        yolo = saved_model_loaded.signatures['serving_default']\n",
        "\n",
        "    return yolo  "
      ],
      "metadata": {
        "id": "joPT63ob9xuy"
      },
      "execution_count": null,
      "outputs": []
    },
    {
      "cell_type": "code",
      "source": [
        ""
      ],
      "metadata": {
        "id": "jJEcH5VN9i6E"
      },
      "execution_count": null,
      "outputs": []
    }
  ]
}