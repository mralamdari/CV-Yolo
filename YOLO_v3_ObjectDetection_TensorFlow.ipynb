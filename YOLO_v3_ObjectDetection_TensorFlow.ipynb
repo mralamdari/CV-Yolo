{
  "nbformat": 4,
  "nbformat_minor": 0,
  "metadata": {
    "colab": {
      "name": "YOLO_v3_ObjectDetection_TensorFlow.ipynb",
      "provenance": [],
      "collapsed_sections": [],
      "mount_file_id": "1xRxAg9QZNUr77hH4X7ZCBpIWho-PqwTo",
      "authorship_tag": "ABX9TyOEmuQQjfEOnWCpR55DYBah",
      "include_colab_link": true
    },
    "kernelspec": {
      "name": "python3",
      "display_name": "Python 3"
    },
    "language_info": {
      "name": "python"
    }
  },
  "cells": [
    {
      "cell_type": "markdown",
      "metadata": {
        "id": "view-in-github",
        "colab_type": "text"
      },
      "source": [
        "<a href=\"https://colab.research.google.com/github/mralamdari/CV-Yolo/blob/main/YOLO_v3_ObjectDetection_TensorFlow.ipynb\" target=\"_parent\"><img src=\"https://colab.research.google.com/assets/colab-badge.svg\" alt=\"Open In Colab\"/></a>"
      ]
    },
    {
      "cell_type": "code",
      "source": [
        "import os\n",
        "import PIL\n",
        "import cv2\n",
        "import numpy as np\n",
        "import pandas as pd\n",
        "import tensorflow as tf\n",
        "from seaborn import color_palette\n",
        "from IPython.display import display"
      ],
      "metadata": {
        "id": "UO0Jt4fiByMJ"
      },
      "execution_count": 1,
      "outputs": []
    },
    {
      "cell_type": "code",
      "execution_count": 2,
      "metadata": {
        "id": "rETg2Ib5bDfe",
        "colab": {
          "base_uri": "https://localhost:8080/"
        },
        "outputId": "d39a0a67-7d68-476b-f189-515a5999c368"
      },
      "outputs": [
        {
          "output_type": "stream",
          "name": "stdout",
          "text": [
            "Downloading data-for-yolo-v3-kernel.zip to /content\n",
            " 92% 246M/267M [00:01<00:00, 228MB/s]\n",
            "100% 267M/267M [00:01<00:00, 214MB/s]\n",
            "Archive:  data-for-yolo-v3-kernel.zip\n",
            "replace coco.names? [y]es, [n]o, [A]ll, [N]one, [r]ename: N\n"
          ]
        }
      ],
      "source": [
        "os.environ['KAGGLE_CONFIG_DIR'] = '/content/drive/MyDrive'\n",
        "!kaggle datasets download -d aruchomu/data-for-yolo-v3-kernel\n",
        "!unzip \\*.zip && rm *.zip"
      ]
    },
    {
      "cell_type": "code",
      "source": [
        "_BATCH_NORM_DECAY = 0.9\n",
        "_BATCH_NORM_EPSILON = 1e-5\n",
        "_LEAKY_RELU = 0.1\n",
        "_ANCHORS = [(10, 13), (16, 30), (33, 23),\n",
        "            (30, 61), (62, 45), (59, 119),\n",
        "            (116, 90), (156, 198), (373, 326)]\n",
        "\n",
        "_MODEL_SIZE = (416, 416)"
      ],
      "metadata": {
        "id": "7LdiD_zyDFbv"
      },
      "execution_count": 3,
      "outputs": []
    },
    {
      "cell_type": "code",
      "source": [
        "def batch_norm(inputs, training, data_format):\n",
        "    # return tf.compat.v1.layers.batch_normalization(\n",
        "    #                                    axis=1 if data_format == 'channels_first' else 3,\n",
        "    #                                    momentum=_BATCH_NORM_DECAY,\n",
        "    #                                    epsilon=_BATCH_NORM_EPSILON,\n",
        "    #                                    scale=True,\n",
        "    #                                    training=training)(inputs)\n",
        "\n",
        "\n",
        "    # return  tf.keras.layers.BatchNormalization(\n",
        "    #                                    axis=1 if data_format == 'channels_first' else 3,\n",
        "    #                                    momentum=_BATCH_NORM_DECAY,\n",
        "    #                                    epsilon=_BATCH_NORM_EPSILON,\n",
        "    #                                    scale=True,\n",
        "    #                                    trainable=training)(inputs)\n",
        "\n",
        " \n",
        "    return tf.nn.batch_normalization(x=inputs, axis=1 if data_format == 'channels_first' else 3,\n",
        "                                    momentum=_BATCH_NORM_DECAY,\n",
        "                                    epsilon=_BATCH_NORM_EPSILON,\n",
        "                                    scale=True,\n",
        "                                    trainable=training\n",
        "                                     )"
      ],
      "metadata": {
        "id": "9-Tw-43rECdB"
      },
      "execution_count": 87,
      "outputs": []
    },
    {
      "cell_type": "code",
      "source": [
        "def fixed_padding(inputs, kernel_size, data_format):\n",
        "    pad_total = kernel_size - 1\n",
        "    pad_beg = pad_total // 2\n",
        "    pad_end = pad_total - pad_beg\n",
        "\n",
        "    if data_format == 'channels_first':\n",
        "      padded_inputs = tf.pad(inputs, [[0, 0], [0, 0],\n",
        "                                      [pad_beg, pad_end],\n",
        "                                       [pad_beg, pad_end]])  \n",
        "    else:\n",
        "      padded_inputs = tf.pad(inputs, [[0, 0], [pad_beg, pad_end],\n",
        "                                       [pad_beg, pad_end], [0, 0]])\n",
        "    return padded_inputs"
      ],
      "metadata": {
        "id": "vK5MYMBbGCLT"
      },
      "execution_count": 85,
      "outputs": []
    },
    {
      "cell_type": "code",
      "source": [
        "def conv2d_fixed_padding(inputs, filters, kernel_size, data_format, strides=1):\n",
        "    if strides > 1:\n",
        "      inputs = fixed_padding(inputs, kernel_size, data_format)\n",
        "      return tf.layers.conv2d(inputs=inputs, \n",
        "                              filters=filters,\n",
        "                              kernel_size=kernel_size,\n",
        "                              strides=strides,\n",
        "                              padding=('SAME' if strides == 1 else 'VALID'),\n",
        "                              use_bias=False,\n",
        "                              data_format=data_format)"
      ],
      "metadata": {
        "id": "M0ID-k0QGIGZ"
      },
      "execution_count": 6,
      "outputs": []
    },
    {
      "cell_type": "markdown",
      "source": [
        "# Feature extraction: Darknet-53\n"
      ],
      "metadata": {
        "id": "7dx4Y501IbeK"
      }
    },
    {
      "cell_type": "code",
      "source": [
        "def darknet53_residual_block(inputs, filters, training, data_format, strides=1):\n",
        "  shortcut = inputs\n",
        "  inputs = conv2d_fixed_padding(inputs,\n",
        "                               filters=filters,\n",
        "                               kernel_size=1,\n",
        "                               strides=strides,\n",
        "                               data_format=data_format)\n",
        "  \n",
        "  inputs = batch_norm(inputs,\n",
        "                      training=training, \n",
        "                      data_format=data_format)\n",
        "  \n",
        "  inputs = tf.nn.leaky_relu(inputs, alpha=_LEAKY_RELU)\n",
        "\n",
        "  inputs = conv2d_fixed_padding(inputs,\n",
        "                                filters=2 * filters,\n",
        "                                kernel_size=3,\n",
        "                                strids=strides,\n",
        "                                data_format=data_format)\n",
        "  \n",
        "  inputs = batch_norm(inputs, \n",
        "                      training=training, \n",
        "                      data_format=data_format)\n",
        "  \n",
        "  inputs = tf.nn.leaky_relu(inputs, alpha=_LEAKY_RELU)\n",
        "\n",
        "  inputs += shortcut\n",
        "\n",
        "  return inputs"
      ],
      "metadata": {
        "id": "dGY5WMzPIT71"
      },
      "execution_count": 7,
      "outputs": []
    },
    {
      "cell_type": "code",
      "source": [
        "def darknet53(inputs, training, data_format):\n",
        "  print(inputs)\n",
        "  inputs = conv2d_fixed_padding(inputs,\n",
        "                                filters=32,\n",
        "                                kernel_size=3,\n",
        "                                data_format=data_format)\n",
        "  \n",
        "  \n",
        "  # inputs = batch_norm(inputs,\n",
        "  #                     training=training,\n",
        "  #                     data_format=data_format)\n",
        "\n",
        "\n",
        "  print(22222222222222222222222222222222)\n",
        "  print(inputs)\n",
        "  inputs = tf.keras.layers.BatchNormalization(axis=1 if data_format == 'channels_first' else 3,\n",
        "                                              momentum=_BATCH_NORM_DECAY,\n",
        "                                              epsilon=_BATCH_NORM_EPSILON,\n",
        "                                              scale=True,\n",
        "                                              trainable=training)(inputs)\n",
        "  print(888888888888888888888888888888)\n",
        "  \n",
        "  inputs = tf.nn.leaky_relu(inputs, alpha=_LEAKY_RELU)\n",
        "\n",
        "  inputs = conv2d_fixed_padding(inputs,\n",
        "                                filters=64, \n",
        "                                kernel_size=3,\n",
        "                                strides=2,\n",
        "                                data_format=data_format)\n",
        "  \n",
        "  inputs = batch_norm(inputs, \n",
        "                      training=training,\n",
        "                      data_format=data_format)\n",
        "  \n",
        "  inputs = tf.nn.leaky_relu(inputs, alpha=_LEAKY_RELU)\n",
        "\n",
        "  inputs = darknet53_residual_block(inputs, \n",
        "                                    filters=32,\n",
        "                                    training=training,\n",
        "                                    data_format=data_format)\n",
        "  \n",
        "  inputs = conv2d_fixed_padding(inputs,\n",
        "                                filters=128,\n",
        "                                kernel_size=3, \n",
        "                                strides=2,\n",
        "                                data_format=data_format)\n",
        "  \n",
        "  inputs = batch_norm(inputs, \n",
        "                      training=training,\n",
        "                      data_format=data_format)\n",
        "\n",
        "  inputs = tf.nn.leaky_relu(inputs, alpha=_LEAKY_RELU)\n",
        "\n",
        "  for i in range(2):\n",
        "    inputs = darknet53_residual_block(inputs,\n",
        "                                      filters=64,\n",
        "                                      training=training,\n",
        "                                      data_format=data_format)\n",
        "    \n",
        "    inputs = conv2d_fixed_padding(inputs,\n",
        "                                  filters=256,\n",
        "                                  kernel_size=3,\n",
        "                                  strides=2,\n",
        "                                  data_format=data_format)\n",
        "    \n",
        "    inputs = batch_norm(inputs,\n",
        "                        training=training,\n",
        "                        data_format=data_format)\n",
        "    \n",
        "    inputs = tf.nn.leaky_relu(inputs, alpha=_LEAKY_RELU)\n",
        "\n",
        "  for i in range(8):\n",
        "    inputs = darknet53_residual_block(inputs, \n",
        "                                      frilters=128,\n",
        "                                      training=training,\n",
        "                                      data_format=data_format)\n",
        "    route1 = inputs\n",
        "\n",
        "    inputs = conv2d_fixed_padding(inputs,\n",
        "                                  filters=512,\n",
        "                                  kernel_size=3,\n",
        "                                  strides=2,\n",
        "                                  data_format=data_format)\n",
        "    \n",
        "    inputs = batch_norm(inputs,\n",
        "                        training=training,\n",
        "                        data_format=data_format)\n",
        "    \n",
        "    inputs = tf.nn.leaky_relu(inputs, alpha=_LEAKY_RELU)\n",
        "\n",
        "  for i in range(8):\n",
        "    inputs = darknet53_residual_block(inputs,\n",
        "                                      filters=256,\n",
        "                                      training=training,\n",
        "                                      pad_formet=data_format)\n",
        "    \n",
        "    route2=inputs\n",
        "\n",
        "    inputs = conv2d_fixed_padding(inputs,\n",
        "                                  filters=1024,\n",
        "                                  kernel_size=3, \n",
        "                                  strides=2,\n",
        "                                  data_format=data_format)\n",
        "    \n",
        "    inputs = batch_norm(inputs,\n",
        "                        training=training,\n",
        "                        data_format=data_format)\n",
        "    \n",
        "    inputs = tf.nn.leaky_relu(inputs, alpha=_LEAKY_RELU)\n",
        "\n",
        "  for i in range(4):\n",
        "    inputs = darknet53_residual_block(inputs, \n",
        "                                      filters=512,\n",
        "                                      training=training,\n",
        "                                      data_format=data_format)\n",
        " \n",
        "  return route1, route2, inputs"
      ],
      "metadata": {
        "id": "UkMiY5G0KKil"
      },
      "execution_count": 120,
      "outputs": []
    },
    {
      "cell_type": "code",
      "source": [
        "model(inputs, training=False)"
      ],
      "metadata": {
        "colab": {
          "base_uri": "https://localhost:8080/",
          "height": 363
        },
        "id": "GlG1srwRu_H0",
        "outputId": "9bf1d1db-d5aa-4ee7-da9b-fffa317e84cf"
      },
      "execution_count": 121,
      "outputs": [
        {
          "output_type": "stream",
          "name": "stdout",
          "text": [
            "Tensor(\"yolo_v3_model_16/truediv:0\", shape=(2, 3, 416, 416), dtype=float32)\n",
            "22222222222222222222222222222222\n",
            "None\n"
          ]
        },
        {
          "output_type": "error",
          "ename": "ValueError",
          "evalue": "ignored",
          "traceback": [
            "\u001b[0;31m---------------------------------------------------------------------------\u001b[0m",
            "\u001b[0;31mValueError\u001b[0m                                Traceback (most recent call last)",
            "\u001b[0;32m<ipython-input-121-a4c229cdc8c1>\u001b[0m in \u001b[0;36m<module>\u001b[0;34m()\u001b[0m\n\u001b[0;32m----> 1\u001b[0;31m \u001b[0mmodel\u001b[0m\u001b[0;34m(\u001b[0m\u001b[0minputs\u001b[0m\u001b[0;34m,\u001b[0m \u001b[0mtraining\u001b[0m\u001b[0;34m=\u001b[0m\u001b[0;32mFalse\u001b[0m\u001b[0;34m)\u001b[0m\u001b[0;34m\u001b[0m\u001b[0;34m\u001b[0m\u001b[0m\n\u001b[0m",
            "\u001b[0;32m<ipython-input-107-5286d70e5d6a>\u001b[0m in \u001b[0;36m__call__\u001b[0;34m(self, inputs, training)\u001b[0m\n\u001b[1;32m     23\u001b[0m       route1, route2, inputs = darknet53(inputs, \n\u001b[1;32m     24\u001b[0m                                          \u001b[0mtraining\u001b[0m\u001b[0;34m=\u001b[0m\u001b[0mtraining\u001b[0m\u001b[0;34m,\u001b[0m\u001b[0;34m\u001b[0m\u001b[0;34m\u001b[0m\u001b[0m\n\u001b[0;32m---> 25\u001b[0;31m                                          data_format=self.data_format)\n\u001b[0m\u001b[1;32m     26\u001b[0m \u001b[0;34m\u001b[0m\u001b[0m\n\u001b[1;32m     27\u001b[0m       \u001b[0mprint\u001b[0m\u001b[0;34m(\u001b[0m\u001b[0mself\u001b[0m\u001b[0;34m.\u001b[0m\u001b[0mdata_format\u001b[0m \u001b[0;34m==\u001b[0m \u001b[0;34m'channels_first'\u001b[0m\u001b[0;34m,\u001b[0m \u001b[0minputs\u001b[0m\u001b[0;34m)\u001b[0m\u001b[0;34m\u001b[0m\u001b[0;34m\u001b[0m\u001b[0m\n",
            "\u001b[0;32m<ipython-input-120-38e2385b642b>\u001b[0m in \u001b[0;36mdarknet53\u001b[0;34m(inputs, training, data_format)\u001b[0m\n\u001b[1;32m     18\u001b[0m                                               \u001b[0mepsilon\u001b[0m\u001b[0;34m=\u001b[0m\u001b[0m_BATCH_NORM_EPSILON\u001b[0m\u001b[0;34m,\u001b[0m\u001b[0;34m\u001b[0m\u001b[0;34m\u001b[0m\u001b[0m\n\u001b[1;32m     19\u001b[0m                                               \u001b[0mscale\u001b[0m\u001b[0;34m=\u001b[0m\u001b[0;32mTrue\u001b[0m\u001b[0;34m,\u001b[0m\u001b[0;34m\u001b[0m\u001b[0;34m\u001b[0m\u001b[0m\n\u001b[0;32m---> 20\u001b[0;31m                                               trainable=training)(inputs)\n\u001b[0m\u001b[1;32m     21\u001b[0m   \u001b[0mprint\u001b[0m\u001b[0;34m(\u001b[0m\u001b[0;36m888888888888888888888888888888\u001b[0m\u001b[0;34m)\u001b[0m\u001b[0;34m\u001b[0m\u001b[0;34m\u001b[0m\u001b[0m\n\u001b[1;32m     22\u001b[0m \u001b[0;34m\u001b[0m\u001b[0m\n",
            "\u001b[0;32m/usr/local/lib/python3.7/dist-packages/keras/engine/base_layer_v1.py\u001b[0m in \u001b[0;36m__call__\u001b[0;34m(self, *args, **kwargs)\u001b[0m\n\u001b[1;32m    805\u001b[0m         \u001b[0;31m# Eager execution on data tensors.\u001b[0m\u001b[0;34m\u001b[0m\u001b[0;34m\u001b[0m\u001b[0;34m\u001b[0m\u001b[0m\n\u001b[1;32m    806\u001b[0m         \u001b[0;32mwith\u001b[0m \u001b[0mbackend\u001b[0m\u001b[0;34m.\u001b[0m\u001b[0mname_scope\u001b[0m\u001b[0;34m(\u001b[0m\u001b[0mself\u001b[0m\u001b[0;34m.\u001b[0m\u001b[0m_name_scope\u001b[0m\u001b[0;34m(\u001b[0m\u001b[0;34m)\u001b[0m\u001b[0;34m)\u001b[0m\u001b[0;34m:\u001b[0m  \u001b[0;31m# pylint: disable=not-callable\u001b[0m\u001b[0;34m\u001b[0m\u001b[0;34m\u001b[0m\u001b[0m\n\u001b[0;32m--> 807\u001b[0;31m           \u001b[0mself\u001b[0m\u001b[0;34m.\u001b[0m\u001b[0m_maybe_build\u001b[0m\u001b[0;34m(\u001b[0m\u001b[0minputs\u001b[0m\u001b[0;34m)\u001b[0m\u001b[0;34m\u001b[0m\u001b[0;34m\u001b[0m\u001b[0m\n\u001b[0m\u001b[1;32m    808\u001b[0m           \u001b[0mcast_inputs\u001b[0m \u001b[0;34m=\u001b[0m \u001b[0mself\u001b[0m\u001b[0;34m.\u001b[0m\u001b[0m_maybe_cast_inputs\u001b[0m\u001b[0;34m(\u001b[0m\u001b[0minputs\u001b[0m\u001b[0;34m)\u001b[0m\u001b[0;34m\u001b[0m\u001b[0;34m\u001b[0m\u001b[0m\n\u001b[1;32m    809\u001b[0m           with autocast_variable.enable_auto_cast_variables(\n",
            "\u001b[0;32m/usr/local/lib/python3.7/dist-packages/keras/engine/base_layer_v1.py\u001b[0m in \u001b[0;36m_maybe_build\u001b[0;34m(self, inputs)\u001b[0m\n\u001b[1;32m   2072\u001b[0m         \u001b[0;31m# operations.\u001b[0m\u001b[0;34m\u001b[0m\u001b[0;34m\u001b[0m\u001b[0;34m\u001b[0m\u001b[0m\n\u001b[1;32m   2073\u001b[0m         \u001b[0;32mwith\u001b[0m \u001b[0mtf_utils\u001b[0m\u001b[0;34m.\u001b[0m\u001b[0mmaybe_init_scope\u001b[0m\u001b[0;34m(\u001b[0m\u001b[0mself\u001b[0m\u001b[0;34m)\u001b[0m\u001b[0;34m:\u001b[0m\u001b[0;34m\u001b[0m\u001b[0;34m\u001b[0m\u001b[0m\n\u001b[0;32m-> 2074\u001b[0;31m           \u001b[0mself\u001b[0m\u001b[0;34m.\u001b[0m\u001b[0mbuild\u001b[0m\u001b[0;34m(\u001b[0m\u001b[0minput_shapes\u001b[0m\u001b[0;34m)\u001b[0m\u001b[0;34m\u001b[0m\u001b[0;34m\u001b[0m\u001b[0m\n\u001b[0m\u001b[1;32m   2075\u001b[0m       \u001b[0;31m# We must set also ensure that the layer is marked as built, and the build\u001b[0m\u001b[0;34m\u001b[0m\u001b[0;34m\u001b[0m\u001b[0;34m\u001b[0m\u001b[0m\n\u001b[1;32m   2076\u001b[0m       \u001b[0;31m# shape is stored since user defined build functions may not be calling\u001b[0m\u001b[0;34m\u001b[0m\u001b[0;34m\u001b[0m\u001b[0;34m\u001b[0m\u001b[0m\n",
            "\u001b[0;32m/usr/local/lib/python3.7/dist-packages/keras/layers/normalization/batch_normalization.py\u001b[0m in \u001b[0;36mbuild\u001b[0;34m(self, input_shape)\u001b[0m\n\u001b[1;32m    296\u001b[0m     \u001b[0;32mif\u001b[0m \u001b[0;32mnot\u001b[0m \u001b[0minput_shape\u001b[0m\u001b[0;34m.\u001b[0m\u001b[0mndims\u001b[0m\u001b[0;34m:\u001b[0m\u001b[0;34m\u001b[0m\u001b[0;34m\u001b[0m\u001b[0m\n\u001b[1;32m    297\u001b[0m       raise ValueError(\n\u001b[0;32m--> 298\u001b[0;31m           f'Input has undefined rank. Received: input_shape={input_shape}.')\n\u001b[0m\u001b[1;32m    299\u001b[0m     \u001b[0mndims\u001b[0m \u001b[0;34m=\u001b[0m \u001b[0mlen\u001b[0m\u001b[0;34m(\u001b[0m\u001b[0minput_shape\u001b[0m\u001b[0;34m)\u001b[0m\u001b[0;34m\u001b[0m\u001b[0;34m\u001b[0m\u001b[0m\n\u001b[1;32m    300\u001b[0m \u001b[0;34m\u001b[0m\u001b[0m\n",
            "\u001b[0;31mValueError\u001b[0m: Input has undefined rank. Received: input_shape=<unknown>."
          ]
        }
      ]
    },
    {
      "cell_type": "markdown",
      "source": [
        "# Convolution layers\n"
      ],
      "metadata": {
        "id": "VIPF6nuyaLeg"
      }
    },
    {
      "cell_type": "code",
      "source": [
        "def yolo_convolution_block(inputs,  filters, training, data_format):\n",
        "  inputs = conv2d_fixed_padding(inputs,\n",
        "                                filters=filters,\n",
        "                                kernel_size=1,\n",
        "                                data_format=data_format)\n",
        "  \n",
        "  inputs = batch_norm(inputs,\n",
        "                      training=training,\n",
        "                      data_format=data_format)\n",
        "  \n",
        "  inputs = tf.nn.leaky_relu(inputs, alpha=_LEAKY_RELU)\n",
        "\n",
        "  inputs = conv2d_fixed_padding(inputs,\n",
        "                                filters=2*filters,\n",
        "                                kernel_size=3,\n",
        "                                data_format=data_format)\n",
        "  \n",
        "  inputs = batch_norm(inputs, \n",
        "                      training=training,\n",
        "                      data_format=data_format)\n",
        "  \n",
        "  inputs = tf.nn.leaky_relu(inputs, alpha=_LEAKY_RELU)\n",
        "\n",
        "  inputs = conv2d_fixed_padding(inputs,\n",
        "                                filters=filters,\n",
        "                                kernel_size=1, \n",
        "                                data_format=data_format)\n",
        "  \n",
        "  inputs = batch_norm(inputs, \n",
        "                      training=training,\n",
        "                      data_format=data_format)\n",
        "  \n",
        "  inputs = tf.nn.leaky_relu(inputs, alpha=_LEAKY_RELU)\n",
        "\n",
        "  inputs = conv2d_fixed_padding(inputs,\n",
        "                                filters=2 * filters,\n",
        "                                kernel_size=3,\n",
        "                                data_format=data_format)\n",
        "  \n",
        "  inputs = batch_norm(inputs, \n",
        "                      training=training,\n",
        "                      data_format=data_format)\n",
        "  \n",
        "  inputs = tf.nn.leakt_relu(inputs, alpha=_LEAKY_RELU)\n",
        "\n",
        "  inputs = batch_norm(inputs,\n",
        "                      training=training,\n",
        "                      data_format=data_format)\n",
        "  \n",
        "  ipnuts = tf.nn.leaky_relu(inputs, alpha=_LEAKY_RELU)\n",
        "  \n",
        "  route = inputs\n",
        "\n",
        "  inputs = conv2d_fixed_padding(inputs,\n",
        "                                filters=2 * filters,\n",
        "                                kernel_size=3,\n",
        "                                data_format=data_format)\n",
        "  inputs = batch_norm(inputs,\n",
        "                      training=training,\n",
        "                      data_format=data_format)\n",
        "  \n",
        "  inputs = tf.nn.leaky_relu(inputs, alpha=_LEAKY_RELU)\n",
        "\n",
        "  return route, inputs"
      ],
      "metadata": {
        "id": "u0C5IG6jZMHO"
      },
      "execution_count": 102,
      "outputs": []
    },
    {
      "cell_type": "markdown",
      "source": [
        "# Detection layers\n"
      ],
      "metadata": {
        "id": "H-zOe8gEfZiW"
      }
    },
    {
      "cell_type": "code",
      "source": [
        "def yolo_layer(inputs, n_classes, anchors, img_size, data_format):\n",
        "  n_anchors = len(anchors)\n",
        "  inputs = tf.layers.conv2d(inputs,\n",
        "                            filters=n_anchors * (5 + n_classes),\n",
        "                            kernel_size=1,\n",
        "                            strides=1,\n",
        "                            use_bias=True,\n",
        "                            data_format=data_format)\n",
        "  \n",
        "  shape = inputs.get_shape().as_list()\n",
        "  grid_shape = shape[2: 4] if data_format == 'channels_fist' else shape[1: 3]\n",
        "  \n",
        "  if data_format == 'channels_first':\n",
        "    inputs = tf.transpose(inputs, [0, 2, 3, 1])\n",
        "  inputs = tf.reshape(inputs, [-1, n_anchors*grid_shape[0]*grid_shape[1], 5+n_classes])\n",
        "\n",
        "  strides = (img_size[0] // grid_shape[0], img_size[1]//grid_shape[1])\n",
        "\n",
        "  box_centers, box_shapes, confidence, classes = tf.split(inputs, [2,2,1,n_classes], axis=-1)\n",
        "\n",
        "  x = tf.range(grid_shape[0], dtype=tf.float32)\n",
        "  y = tf.range(grid_shape[1], dtype=tf.float32)\n",
        "  x_offset, y_offset = tf.meshgrid(x, y)\n",
        "  x_offset = tf.reshape(x_offset, (-1, 1))\n",
        "  y_offset = tf.reshape(y_offset, (-1, 1))\n",
        "  x_y_offset = tf.concat([x_offset, y_offset], axis=-1)\n",
        "  x_y_offset = tf.tile(x_y_offset, [1, n_anchors])\n",
        "  x_y_offset = tf.reshape(x_y_offset, [1, -1, 2])\n",
        "  box_centers = tf.nn.sigmoid(box_centers)\n",
        "  box_centers = (box_centers + x_y_offset) * strides\n",
        "\n",
        "  anchors = tf.tile(anchors, [grid_shape[0]*grid_shape[1], 1])\n",
        "  box_shapes = tf.exp(box_shapes) * tf.to_float(anchors)\n",
        "  confidence = tf.nn.sigmoid(classes)\n",
        "  inputs = tf.concat([box_centers, box_shapes, confidence, classes], axis=-1)\n",
        "  return inputs"
      ],
      "metadata": {
        "id": "4E87xE_ahch5"
      },
      "execution_count": 103,
      "outputs": []
    },
    {
      "cell_type": "markdown",
      "source": [
        "# Upsample layer"
      ],
      "metadata": {
        "id": "ztM3PP3aic1o"
      }
    },
    {
      "cell_type": "code",
      "source": [
        "def upsample(inputs, out_shape, data_format):\n",
        "  if data_format == 'channels_first':\n",
        "    inputs = tf.transpose(inputs, [0, 2, 3, 1])\n",
        "    new_height = out_shape[3]\n",
        "    new_width = out_shape[2]\n",
        "  else:\n",
        "    new_height = out_shape[2]\n",
        "    new_width = out_shape[1]\n",
        "  \n",
        "  inputs = tf.image.resize_nearest_neighbor(inputs, (new_height, new_width))\n",
        "\n",
        "  if data_format == 'channels_first':\n",
        "    inputs = tf.transpose(inputs, [0, 3, 1, 2])\n",
        "  \n",
        "  return inputs"
      ],
      "metadata": {
        "id": "7rLiWM1XiYXU"
      },
      "execution_count": 104,
      "outputs": []
    },
    {
      "cell_type": "markdown",
      "source": [
        "# Non-max suppression"
      ],
      "metadata": {
        "id": "Cx_EsXwqturx"
      }
    },
    {
      "cell_type": "code",
      "source": [
        "def build_boxes(inputs):\n",
        "  center_x, center_y, width, height, confidence, classes = tf.split(inputs, [1,1,1,1,1,-1], axis=-1)\n",
        "  top_left_x = center_x - width / 2\n",
        "  top_left_y = center_y - height / 2\n",
        "  bottom_right_x = center_x + width / 2\n",
        "  bottom_right_y = center_y + height / 2\n",
        "\n",
        "  boxes = tf.concat([top_left_x, top_left_y, bottom_right_x, bottom_right_y, confidence, classes], axis=-1)"
      ],
      "metadata": {
        "id": "VRmSnX8IjwLs"
      },
      "execution_count": 105,
      "outputs": []
    },
    {
      "cell_type": "code",
      "source": [
        "def non_max_suppression(inputs, n_classes, max_output_size, iou_threshold, confidence_threshold):\n",
        "  batch = tf.unsrack(inputs)\n",
        "  boxes_dicts = []\n",
        "  for boxes in batch:\n",
        "    boxes = tf.boolean_mask(boxes, boxes[:, 4]>confidence_threshold)\n",
        "    classes = tf.argmax(boxes[:, 5:], axis=-1)\n",
        "    classes = tf.expand_dims(tf.to_float(classes), axis=-1)\n",
        "    boxes = tf.concat([boxes[:, :5], classes], axis=-1)\n",
        "\n",
        "    boxes_dict = dict()\n",
        "    for cls in range(n_classes):\n",
        "      mask = tf.equal(boxes[:, 5], cls)\n",
        "      mask_shape = mask.get_shape()\n",
        "      if mask_shape.ndims != 0:\n",
        "        class_boxes = tf.boolean_mask(boxes, mask)\n",
        "        boxes_coords, boxes_conf_scores, _ = tf.split(class_boxes, [4, 1, -1], axis=-1)\n",
        "        boxes_conf_scores = tf.reshape(boxes_conf_scores, [-1])\n",
        "        indices = tf.image.non_max_supperssion(boxes_coords, boxes_conf_scores, max_output_size, iou_threshold)\n",
        "        class_boxes = tf.gather(class_boxes, indices)\n",
        "        boxes_dict[cls] = class_boxes[:, :5]\n",
        "        boxes_dicts.append(boxes_dict)\n",
        "        return boxes_dicts"
      ],
      "metadata": {
        "id": "JHnEJSNLtyoM"
      },
      "execution_count": 106,
      "outputs": []
    },
    {
      "cell_type": "markdown",
      "source": [
        "# Final model class\n"
      ],
      "metadata": {
        "id": "Go6miVqXK5Er"
      }
    },
    {
      "cell_type": "code",
      "source": [
        "class Yolo_v3:\n",
        "  def __init__(self, n_classes, model_size, max_output_size, iou_threshold, confidence_threshold, data_format=None):\n",
        "    if not data_format:\n",
        "      data_format = 'channels_first'\n",
        "    else:\n",
        "      data_format = 'channles_last'\n",
        "    \n",
        "    self.n_classes = n_classes\n",
        "    self.model_size = model_size\n",
        "    self.max_output_size = max_output_size\n",
        "    self.iou_threshold = iou_threshold\n",
        "    self.confidence_threshold = confidence_threshold\n",
        "    self.data_format = data_format\n",
        "\n",
        "  def __call__(self, inputs, training):\n",
        "\n",
        "\n",
        "    with tf.compat.v1.variable_scope('yolo_v3_model'):\n",
        "      if self.data_format == 'channels_first':\n",
        "        inputs = tf.transpose(inputs, [0, 3, 1, 2])\n",
        "      inputs = inputs / 255\n",
        "      \n",
        "      route1, route2, inputs = darknet53(inputs, \n",
        "                                         training=training, \n",
        "                                         data_format=self.data_format)\n",
        "      \n",
        "      print(self.data_format == 'channels_first', inputs)\n",
        "      route, inputs = yolo_convolution_block(inputs,\n",
        "                                             filters=512, \n",
        "                                             training=training, \n",
        "                                             data_format=self.data_format)\n",
        "      \n",
        "      detect1 = yolo_layer(inputs, \n",
        "                           n_classes=self.n_classes,\n",
        "                           img_size=self.model_size,\n",
        "                           anchors=_ANCHORS[6: 9],\n",
        "                           data_format=self.data_format)\n",
        "      \n",
        "      inputs = conv2d_fixed_padding(route, \n",
        "                                    filters=256, \n",
        "                                    kernel_size=1,\n",
        "                                    data_format=self.data_format)\n",
        "      \n",
        "      inputs = batch_norm(inputs,\n",
        "                          training=training,\n",
        "                          data_format=self.data_format)\n",
        "      \n",
        "      inputs = tf.nn.leaky_relu(inputs, alpha=_LEAKY_RELU)\n",
        "\n",
        "      upsample_size = route2.get_shape().as_list()\n",
        "      inputs = upsample(inputs,\n",
        "                        out_shape=upsample_size,\n",
        "                        data_format=self.data_format)\n",
        "      \n",
        "      axis= 1 if self.data_format == 'channels_first' else 3\n",
        "\n",
        "      inputs = tf.concat([inputs, route2], axis=axis)\n",
        "\n",
        "      rout, inputs = yolo_convolution_block(inputs,\n",
        "                                            filters=256,\n",
        "                                            training=training,\n",
        "                                            data_format=self.data_format)\n",
        "      \n",
        "      print(2222222222222222222222222222222)\n",
        "      detect2 = yolo_layer(inputs, \n",
        "                           n_classes=self.n_classes,\n",
        "                           img_size=self.model_size,\n",
        "                           anchors=_ANCHORS[3: 6],\n",
        "                           data_format=self.data_format)\n",
        "      \n",
        "      inputs = conv2d_fixed_padding(route, \n",
        "                                    filters=128, \n",
        "                                    kernel_size=1,\n",
        "                                    data_format=self.data_format)\n",
        "      \n",
        "      inputs = batch_norm(inputs,\n",
        "                          training=training,\n",
        "                          data_format=self.data_format)\n",
        "      \n",
        "      inputs = tf.nn.leaky_relu(inputs, alpha=_LEAKY_RELU)\n",
        "\n",
        "      upsample_size = route1.get_shape().as_list()\n",
        "\n",
        "      inputs = upsample(inputs,\n",
        "                        out_shape=upsample_size,\n",
        "                        data_format=self.data_format)\n",
        "      \n",
        "\n",
        "      inputs = tf.concat([inputs, route1], axis=axis)\n",
        "\n",
        "      route, inputs = yolo_convolution_block(inputs,\n",
        "                                            filters=128,\n",
        "                                            training=training,\n",
        "                                            data_format=self.data_format)\n",
        "      \n",
        "      detect3 = yolo_layer(inputs, \n",
        "                           n_classes=self.n_classes,\n",
        "                           img_size=self.model_size,\n",
        "                           anchors=_ANCHORS[0: 3],\n",
        "                           data_format=self.data_format)\n",
        "      \n",
        "      inputs = tf.concat([detect1, detect2, detect3], axis=1)\n",
        "      \n",
        "      inputs = build_boxes(inputs)    \n",
        "      \n",
        "      boxes_dicts = non_max_supperssion(inputs,\n",
        "                                        n_classess=self.n_classes,\n",
        "                                        max_output_size=self.max_output_size,\n",
        "                                        iou_threshold=self.iou_threshold,\n",
        "                                        confidence_threshold=self.confidence_threshold)"
      ],
      "metadata": {
        "id": "8N9A5DXvwwTU"
      },
      "execution_count": 107,
      "outputs": []
    },
    {
      "cell_type": "markdown",
      "source": [
        "# 5. Utility functions\n"
      ],
      "metadata": {
        "id": "qfWNMrEAQrQj"
      }
    },
    {
      "cell_type": "code",
      "source": [
        "def load_images(img_names, model_size):\n",
        "  imgs = []\n",
        "  for img_name in img_names:\n",
        "    img = PIL.Image.open(img_name)\n",
        "    img = img.resize(size=model_size)\n",
        "    img = np.array(img, dtype=np.float32)\n",
        "    img = np.expand_dims(img, axis=0)\n",
        "    imgs.append(img)\n",
        "\n",
        "  imgs = np.concatenate(imgs)\n",
        "\n",
        "  return imgs"
      ],
      "metadata": {
        "id": "TRLc_SjwLHWK"
      },
      "execution_count": 108,
      "outputs": []
    },
    {
      "cell_type": "code",
      "source": [
        "def load_class_names(file_name):\n",
        "  with open(file_name, 'r') as f:\n",
        "    class_names = f.read().splitlines()\n",
        "  return class_names"
      ],
      "metadata": {
        "id": "Fq44m3m3by38"
      },
      "execution_count": 109,
      "outputs": []
    },
    {
      "cell_type": "code",
      "source": [
        "def draw_boxes(img_names, box_dicts, class_names, model_size):\n",
        "  colors = ((np.array(color_palette('hls', 80)) * 255)).astype(np.uint8)\n",
        "  for num ,img_name, boxes_dict in zip(range(len(img_names)), img_names, boxes_dicts):\n",
        "    img = PIL.Image.open(img_name)\n",
        "    draw = PIL.ImageDraw.Draw(img)\n",
        "    font = PIL.ImageFont.truetype(font='/content/futur.ttf', size=(img.size[0]+img.size[1])//100)\n",
        "    # font = PIL.ImageFont.truetype(font='../input/futur.ttf', size=(img.size[0]+img.size[1])//100)\n",
        "    resize_factor = (img.size[0]/model_size[0], img.size[1]/model_size[1])\n",
        "\n",
        "    for cls in range(len(class_names)):\n",
        "      boxes = boxes_dict[cls]    \n",
        "      if np.size(boxes) != 0:\n",
        "        color = colors[cls]\n",
        "        for box in boxes:\n",
        "          xy, confidence = box[:4], box[4]\n",
        "          xy = [xy[i] * resize_factor[i%2] for i in range(4)] \n",
        "          x0, y0 = xy[0], xy[1]\n",
        "          thickness = (img.size[0]+img.size[1]) // 200\n",
        "          for t in np.linespace(0, 1, thickness):\n",
        "            xy[0], xy[1] = xy[0] + t, xy[1] + t\n",
        "            xy[2], xy[3] = xy[2] - y, xy[3] - t\n",
        "            draw.rectangle(xy, outline=tuple(color))\n",
        "          text = f'{class_names[cls]} {confidence*100:.1f}%'\n",
        "          text_size = draw.textsize(text, font=font)\n",
        "          draw.rectangle([x0, y0-text_size[1], x0+text_size[0], y0], fill=tuple(color))\n",
        "          draw.text((x0, y0-text_size[1]), text, fill='black', fint=font)\n",
        "    display(img)"
      ],
      "metadata": {
        "id": "9WNtVZMZcHj5"
      },
      "execution_count": 110,
      "outputs": []
    },
    {
      "cell_type": "markdown",
      "source": [
        "# 6. Converting weights to Tensorflow format"
      ],
      "metadata": {
        "id": "E4lZ4uQ1nkEB"
      }
    },
    {
      "cell_type": "code",
      "source": [
        "def load_weights(variables, file_name):\n",
        "  with open(file_name, 'rb') as f:\n",
        "    np.fromfile(f, dtype=np.int32, count=5)\n",
        "    weights = np.fromfile(f, dtype=np.floate32)\n",
        "\n",
        "    assign_ops = []\n",
        "    ptr = 0\n",
        "\n",
        "    for i in range(52):\n",
        "      conv_var = variables[5 * i]\n",
        "      gamma, beta, mean, variance = variables[5 * i + 1: 5 * i + 5]\n",
        "      batch_norm_vars = [beta, gamma, mean, variance]\n",
        "\n",
        "      for var in batch_norm_vars:\n",
        "        shape = var.shape.as_list()\n",
        "        num_params = np.prod(shape)\n",
        "        var_weights = weights[ptr: ptr+num_params].reshape(shape)\n",
        "        ptr += num_params\n",
        "        assign_ops.append(tf.assign(var, var_weights))\n",
        "      \n",
        "      shape = conv_var.shape.as_list()\n",
        "      num_params = np.prod(shape)\n",
        "      var_weights = weights[ptr: ptr+num_params].reshape(shape[3], shape[2], shape[0], shape[1])\n",
        "      var_weights = np.transpose(var_weights, (2, 3, 1, 0))\n",
        "      ptr += num_params\n",
        "      assign_ops.append(tf.assign(conv_var, var_weights))\n",
        "\n",
        "    ranges = [range(0, 6), range(6, 13), range(13, 20)]\n",
        "    unnormalized = [6, 13, 20]  \n",
        "    for j in range(3):\n",
        "      for i in ranges[j]:\n",
        "        current = 52*5 + 5*i + 2*j\n",
        "        conv_car = variables[current]\n",
        "        gamma, beata, mean, variance = variables[current+1: current+5]\n",
        "        batch_norm_vars = [beta, gamma, mean, variance]\n",
        "\n",
        "        for var in batch_norm_vars:\n",
        "          shape = var.shape.as_list()\n",
        "          num_params = np.prod(shape)\n",
        "          var_weights = weights[ptr: ptr + num_params].reshape(shape)\n",
        "          ptr += num_params\n",
        "          assign_ops.append(tf.assign(var, var_weights))\n",
        "        \n",
        "        shape = conv_var.shape.as_list()\n",
        "        num_params = np.prod(shape)\n",
        "        var_weights = weights[ptr: ptr+num_params].reshape(shape[3], shape[2], shape[0], shape[1])\n",
        "        var_weights = np.transpose(var_weights, (2, 3, 1, 0))\n",
        "        ptr += num_params\n",
        "        assign_ops.append(tf.assign(conv_var, var_weights))\n",
        "      \n",
        "      bias = variables[52*5 + unnormalized[j]*5 + 2*j]\n",
        "      shape = bias.shape.as_list()\n",
        "      num_params = np.prod(shape)\n",
        "      var_weights = weights[ptr: ptr+num_params].reshape(shape)\n",
        "      ptr += num_params\n",
        "      assign_ops.append(tf.assign(bias, var_weights))\n",
        "\n",
        "      conv_var = variables[52*5 + unnormalized[j]*5 + j*2]\n",
        "      shape = conv_var.shape.as_list()\n",
        "      num_params = np.prod(shape)\n",
        "      var_weights = weights[ptr: ptr + num_params].reshape(shape[3], shape[2], shape[0], shape[1])\n",
        "      var_weights = np.transpose(var_weights, (2, 3, 1, 0))\n",
        "      ptr += num_params\n",
        "      assign_ops.append(tf.assign(conv_var, var_weights))\n",
        "  return assign_ops"
      ],
      "metadata": {
        "id": "h2Tbd3PSnr3w"
      },
      "execution_count": 111,
      "outputs": []
    },
    {
      "cell_type": "markdown",
      "source": [
        "# Sample images\n"
      ],
      "metadata": {
        "id": "QNoEthjN5VyC"
      }
    },
    {
      "cell_type": "code",
      "source": [
        "# img_names = ['../input/dog.jpg', '../input/office.jpg']\n",
        "img_names = ['/content/dog.jpg', '/content/office.jpg']\n",
        "\n",
        "# for img in img_names: display(PIL.Image.open(img))"
      ],
      "metadata": {
        "id": "PC2Ag86lnlXy"
      },
      "execution_count": 112,
      "outputs": []
    },
    {
      "cell_type": "markdown",
      "source": [
        "# Detections"
      ],
      "metadata": {
        "id": "gn8Ma4Ih5jhD"
      }
    },
    {
      "cell_type": "code",
      "source": [
        "batch_size = len(img_names)\n",
        "batch = load_images(img_names, model_size=_MODEL_SIZE)\n",
        "# class_names = load_class_names('../input/coco.names')\n",
        "class_names = load_class_names('/content/coco.names')\n",
        "n_classes = len(class_names)\n",
        "max_output_size = 10\n",
        "iou_threshold = 0.5\n",
        "confidence_threshold = 0.5\n",
        "model = Yolo_v3(n_classes=n_classes,\n",
        "                model_size=_MODEL_SIZE,\n",
        "                max_output_size = max_output_size,\n",
        "                iou_threshold = iou_threshold,\n",
        "                confidence_threshold = confidence_threshold)\n",
        "\n",
        "tf.compat.v1.disable_eager_execution()\n",
        "inputs = tf.compat.v1.placeholder(tf.float32, shape=[batch_size, 416, 416, 3])\n",
        "\n",
        "\n",
        "detections = model(inputs, training=False)\n",
        "\n",
        "model_vars = tf.global_variables(scope='yolo_v3_model')\n",
        "# assign_ops = load_weights(model_vars, '../input/yolov3.weights')\n",
        "assign_ops = load_weights(model_vars, 'yolov3.weights')\n",
        "\n",
        "with tf.Session() as sess:\n",
        "  sess.run(assign_ops)\n",
        "  detection_results = sess.run(detections, feed_dic={input: batch})\n",
        "\n",
        "draw_boxes(img_names, detection_results, class_names, _MODEL_SIZE)"
      ],
      "metadata": {
        "colab": {
          "base_uri": "https://localhost:8080/",
          "height": 415
        },
        "id": "kkaBNNr0nlaf",
        "outputId": "974238b2-72b5-4b61-d78c-b8d013a26dad"
      },
      "execution_count": 119,
      "outputs": [
        {
          "output_type": "stream",
          "name": "stdout",
          "text": [
            "22222222222222222222222222222222\n",
            "None\n"
          ]
        },
        {
          "output_type": "error",
          "ename": "ValueError",
          "evalue": "ignored",
          "traceback": [
            "\u001b[0;31m---------------------------------------------------------------------------\u001b[0m",
            "\u001b[0;31mValueError\u001b[0m                                Traceback (most recent call last)",
            "\u001b[0;32m<ipython-input-119-c3e478a7b9ae>\u001b[0m in \u001b[0;36m<module>\u001b[0;34m()\u001b[0m\n\u001b[1;32m     17\u001b[0m \u001b[0;34m\u001b[0m\u001b[0m\n\u001b[1;32m     18\u001b[0m \u001b[0;34m\u001b[0m\u001b[0m\n\u001b[0;32m---> 19\u001b[0;31m \u001b[0mdetections\u001b[0m \u001b[0;34m=\u001b[0m \u001b[0mmodel\u001b[0m\u001b[0;34m(\u001b[0m\u001b[0minputs\u001b[0m\u001b[0;34m,\u001b[0m \u001b[0mtraining\u001b[0m\u001b[0;34m=\u001b[0m\u001b[0;32mFalse\u001b[0m\u001b[0;34m)\u001b[0m\u001b[0;34m\u001b[0m\u001b[0;34m\u001b[0m\u001b[0m\n\u001b[0m\u001b[1;32m     20\u001b[0m \u001b[0;34m\u001b[0m\u001b[0m\n\u001b[1;32m     21\u001b[0m \u001b[0mmodel_vars\u001b[0m \u001b[0;34m=\u001b[0m \u001b[0mtf\u001b[0m\u001b[0;34m.\u001b[0m\u001b[0mglobal_variables\u001b[0m\u001b[0;34m(\u001b[0m\u001b[0mscope\u001b[0m\u001b[0;34m=\u001b[0m\u001b[0;34m'yolo_v3_model'\u001b[0m\u001b[0;34m)\u001b[0m\u001b[0;34m\u001b[0m\u001b[0;34m\u001b[0m\u001b[0m\n",
            "\u001b[0;32m<ipython-input-107-5286d70e5d6a>\u001b[0m in \u001b[0;36m__call__\u001b[0;34m(self, inputs, training)\u001b[0m\n\u001b[1;32m     23\u001b[0m       route1, route2, inputs = darknet53(inputs, \n\u001b[1;32m     24\u001b[0m                                          \u001b[0mtraining\u001b[0m\u001b[0;34m=\u001b[0m\u001b[0mtraining\u001b[0m\u001b[0;34m,\u001b[0m\u001b[0;34m\u001b[0m\u001b[0;34m\u001b[0m\u001b[0m\n\u001b[0;32m---> 25\u001b[0;31m                                          data_format=self.data_format)\n\u001b[0m\u001b[1;32m     26\u001b[0m \u001b[0;34m\u001b[0m\u001b[0m\n\u001b[1;32m     27\u001b[0m       \u001b[0mprint\u001b[0m\u001b[0;34m(\u001b[0m\u001b[0mself\u001b[0m\u001b[0;34m.\u001b[0m\u001b[0mdata_format\u001b[0m \u001b[0;34m==\u001b[0m \u001b[0;34m'channels_first'\u001b[0m\u001b[0;34m,\u001b[0m \u001b[0minputs\u001b[0m\u001b[0;34m)\u001b[0m\u001b[0;34m\u001b[0m\u001b[0;34m\u001b[0m\u001b[0m\n",
            "\u001b[0;32m<ipython-input-118-918452b1ad2c>\u001b[0m in \u001b[0;36mdarknet53\u001b[0;34m(inputs, training, data_format)\u001b[0m\n\u001b[1;32m     39\u001b[0m                                               \u001b[0mepsilon\u001b[0m\u001b[0;34m=\u001b[0m\u001b[0m_BATCH_NORM_EPSILON\u001b[0m\u001b[0;34m,\u001b[0m\u001b[0;34m\u001b[0m\u001b[0;34m\u001b[0m\u001b[0m\n\u001b[1;32m     40\u001b[0m                                               \u001b[0mscale\u001b[0m\u001b[0;34m=\u001b[0m\u001b[0;32mTrue\u001b[0m\u001b[0;34m,\u001b[0m\u001b[0;34m\u001b[0m\u001b[0;34m\u001b[0m\u001b[0m\n\u001b[0;32m---> 41\u001b[0;31m                                               trainable=training)(inputs)\n\u001b[0m\u001b[1;32m     42\u001b[0m   \u001b[0mprint\u001b[0m\u001b[0;34m(\u001b[0m\u001b[0;36m888888888888888888888888888888\u001b[0m\u001b[0;34m)\u001b[0m\u001b[0;34m\u001b[0m\u001b[0;34m\u001b[0m\u001b[0m\n\u001b[1;32m     43\u001b[0m \u001b[0;34m\u001b[0m\u001b[0m\n",
            "\u001b[0;32m/usr/local/lib/python3.7/dist-packages/keras/engine/base_layer_v1.py\u001b[0m in \u001b[0;36m__call__\u001b[0;34m(self, *args, **kwargs)\u001b[0m\n\u001b[1;32m    805\u001b[0m         \u001b[0;31m# Eager execution on data tensors.\u001b[0m\u001b[0;34m\u001b[0m\u001b[0;34m\u001b[0m\u001b[0;34m\u001b[0m\u001b[0m\n\u001b[1;32m    806\u001b[0m         \u001b[0;32mwith\u001b[0m \u001b[0mbackend\u001b[0m\u001b[0;34m.\u001b[0m\u001b[0mname_scope\u001b[0m\u001b[0;34m(\u001b[0m\u001b[0mself\u001b[0m\u001b[0;34m.\u001b[0m\u001b[0m_name_scope\u001b[0m\u001b[0;34m(\u001b[0m\u001b[0;34m)\u001b[0m\u001b[0;34m)\u001b[0m\u001b[0;34m:\u001b[0m  \u001b[0;31m# pylint: disable=not-callable\u001b[0m\u001b[0;34m\u001b[0m\u001b[0;34m\u001b[0m\u001b[0m\n\u001b[0;32m--> 807\u001b[0;31m           \u001b[0mself\u001b[0m\u001b[0;34m.\u001b[0m\u001b[0m_maybe_build\u001b[0m\u001b[0;34m(\u001b[0m\u001b[0minputs\u001b[0m\u001b[0;34m)\u001b[0m\u001b[0;34m\u001b[0m\u001b[0;34m\u001b[0m\u001b[0m\n\u001b[0m\u001b[1;32m    808\u001b[0m           \u001b[0mcast_inputs\u001b[0m \u001b[0;34m=\u001b[0m \u001b[0mself\u001b[0m\u001b[0;34m.\u001b[0m\u001b[0m_maybe_cast_inputs\u001b[0m\u001b[0;34m(\u001b[0m\u001b[0minputs\u001b[0m\u001b[0;34m)\u001b[0m\u001b[0;34m\u001b[0m\u001b[0;34m\u001b[0m\u001b[0m\n\u001b[1;32m    809\u001b[0m           with autocast_variable.enable_auto_cast_variables(\n",
            "\u001b[0;32m/usr/local/lib/python3.7/dist-packages/keras/engine/base_layer_v1.py\u001b[0m in \u001b[0;36m_maybe_build\u001b[0;34m(self, inputs)\u001b[0m\n\u001b[1;32m   2072\u001b[0m         \u001b[0;31m# operations.\u001b[0m\u001b[0;34m\u001b[0m\u001b[0;34m\u001b[0m\u001b[0;34m\u001b[0m\u001b[0m\n\u001b[1;32m   2073\u001b[0m         \u001b[0;32mwith\u001b[0m \u001b[0mtf_utils\u001b[0m\u001b[0;34m.\u001b[0m\u001b[0mmaybe_init_scope\u001b[0m\u001b[0;34m(\u001b[0m\u001b[0mself\u001b[0m\u001b[0;34m)\u001b[0m\u001b[0;34m:\u001b[0m\u001b[0;34m\u001b[0m\u001b[0;34m\u001b[0m\u001b[0m\n\u001b[0;32m-> 2074\u001b[0;31m           \u001b[0mself\u001b[0m\u001b[0;34m.\u001b[0m\u001b[0mbuild\u001b[0m\u001b[0;34m(\u001b[0m\u001b[0minput_shapes\u001b[0m\u001b[0;34m)\u001b[0m\u001b[0;34m\u001b[0m\u001b[0;34m\u001b[0m\u001b[0m\n\u001b[0m\u001b[1;32m   2075\u001b[0m       \u001b[0;31m# We must set also ensure that the layer is marked as built, and the build\u001b[0m\u001b[0;34m\u001b[0m\u001b[0;34m\u001b[0m\u001b[0;34m\u001b[0m\u001b[0m\n\u001b[1;32m   2076\u001b[0m       \u001b[0;31m# shape is stored since user defined build functions may not be calling\u001b[0m\u001b[0;34m\u001b[0m\u001b[0;34m\u001b[0m\u001b[0;34m\u001b[0m\u001b[0m\n",
            "\u001b[0;32m/usr/local/lib/python3.7/dist-packages/keras/layers/normalization/batch_normalization.py\u001b[0m in \u001b[0;36mbuild\u001b[0;34m(self, input_shape)\u001b[0m\n\u001b[1;32m    296\u001b[0m     \u001b[0;32mif\u001b[0m \u001b[0;32mnot\u001b[0m \u001b[0minput_shape\u001b[0m\u001b[0;34m.\u001b[0m\u001b[0mndims\u001b[0m\u001b[0;34m:\u001b[0m\u001b[0;34m\u001b[0m\u001b[0;34m\u001b[0m\u001b[0m\n\u001b[1;32m    297\u001b[0m       raise ValueError(\n\u001b[0;32m--> 298\u001b[0;31m           f'Input has undefined rank. Received: input_shape={input_shape}.')\n\u001b[0m\u001b[1;32m    299\u001b[0m     \u001b[0mndims\u001b[0m \u001b[0;34m=\u001b[0m \u001b[0mlen\u001b[0m\u001b[0;34m(\u001b[0m\u001b[0minput_shape\u001b[0m\u001b[0;34m)\u001b[0m\u001b[0;34m\u001b[0m\u001b[0;34m\u001b[0m\u001b[0m\n\u001b[1;32m    300\u001b[0m \u001b[0;34m\u001b[0m\u001b[0m\n",
            "\u001b[0;31mValueError\u001b[0m: Input has undefined rank. Received: input_shape=<unknown>."
          ]
        }
      ]
    },
    {
      "cell_type": "code",
      "source": [
        ""
      ],
      "metadata": {
        "id": "1p-ZN-VlBbEk"
      },
      "execution_count": null,
      "outputs": []
    }
  ]
}